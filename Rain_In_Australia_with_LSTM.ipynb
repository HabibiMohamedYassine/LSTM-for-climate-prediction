{
 "cells": [
  {
   "cell_type": "markdown",
   "metadata": {},
   "source": [
    "# Import Libraries"
   ]
  },
  {
   "cell_type": "code",
   "execution_count": 29,
   "id": "eabfc55a",
   "metadata": {},
   "outputs": [],
   "source": [
    "import numpy as np\n",
    "import pandas as pd\n",
    "from sklearn.model_selection import cross_val_predict, StratifiedKFold, GridSearchCV, KFold, cross_val_score, train_test_split\n",
    "from sklearn.metrics import accuracy_score, confusion_matrix, classification_report, roc_auc_score, roc_curve, auc, precision_recall_curve, average_precision_score\n",
    "import matplotlib.pyplot as plt\n",
    "from sklearn.utils import resample\n",
    "from sklearn.preprocessing import MinMaxScaler, StandardScaler\n",
    "from sklearn.compose import ColumnTransformer\n",
    "from sklearn.pipeline import Pipeline\n",
    "import tensorflow as tf\n",
    "from tensorflow.keras.models import Sequential, load_model\n",
    "from tensorflow.keras.layers import *\n",
    "from tensorflow.keras.callbacks import ModelCheckpoint\n",
    "from tensorflow.keras.optimizers.legacy import Adam\n",
    "from tensorflow.keras.losses import BinaryCrossentropy"
   ]
  },
  {
   "cell_type": "markdown",
   "id": "1ba1d287",
   "metadata": {},
   "source": [
    "**\"About this file\" (source : Kaggle)**\n",
    "\n",
    "This dataset contains about **10 years of daily weather observations** from numerous **Australian weather stations.**\n",
    "\n",
    "**RainTomorrow** is the **target variable to predict.** It means -- **did it rain the next day, Yes or No?**\n",
    "\n",
    "This column is Yes if the rain for that day was 1mm or more."
   ]
  },
  {
   "cell_type": "markdown",
   "id": "d3006130",
   "metadata": {},
   "source": [
    "# I- LSTM (Best accuracy : 88.99%)"
   ]
  },
  {
   "cell_type": "markdown",
   "id": "8f11ee00",
   "metadata": {},
   "source": [
    "## A. Preprocessing"
   ]
  },
  {
   "cell_type": "markdown",
   "id": "f9f3e3fe",
   "metadata": {},
   "source": [
    "### The goal is to have 1 continuous time slot $[D_{start},D_{end}]$ without missing days for all the cities. It will allow a sequential process of all the data by the LSTM model."
   ]
  },
  {
   "cell_type": "code",
   "execution_count": 2,
   "id": "f489f2ef",
   "metadata": {},
   "outputs": [],
   "source": [
    "data = pd.read_csv(\"weatherAUS.csv\")\n",
    "data['Date'] = pd.to_datetime(data['Date'])\n",
    "data['Year'] = data['Date'].dt.year\n",
    "data['Month'] = data['Date'].dt.month\n",
    "data['Day'] = data['Date'].dt.day\n",
    "data['cos_time'] = np.cos(2*np.pi*(data['Day']+30.5*(data['Month']-1))/365)\n",
    "data['sin_time'] = np.sin(2*np.pi*(data['Day']+30.5*(data['Month']-1))/365)\n",
    "data.drop(['Month','Day','Year'], axis=1, inplace = True)\n",
    "\n",
    "data = data[data[\"RainTomorrow\"].notna()]\n",
    "data['RainToday'].replace({'No': 0, 'Yes': 1},inplace = True)\n",
    "data['RainTomorrow'].replace({'No': 0, 'Yes': 1},inplace = True)"
   ]
  },
  {
   "cell_type": "code",
   "execution_count": 3,
   "id": "768f0e87",
   "metadata": {},
   "outputs": [],
   "source": [
    "data.dropna(inplace=True) #On perd complètement les données de plusieurs villes."
   ]
  },
  {
   "cell_type": "code",
   "execution_count": 4,
   "id": "c58dbdb7",
   "metadata": {},
   "outputs": [],
   "source": [
    "data.set_index('Date', inplace=True)"
   ]
  },
  {
   "cell_type": "code",
   "execution_count": 5,
   "id": "86cab825",
   "metadata": {},
   "outputs": [],
   "source": [
    "data = data[data['Location'] != 'Cobar'] #Car on n'a des données que entre 2009 et 2010\n",
    "data = data[data['Location'] != 'CoffsHarbour'] #Car on n'a des données que entre 2009 et 2014\n",
    "data = data[data['Location'] != 'Sale'] #Car on n'a des données que entre 2009 et 2014\n",
    "data = data[data['Location'] != 'Canberra'] #Car on n'a des données que entre 2009 et 2012"
   ]
  },
  {
   "cell_type": "code",
   "execution_count": 6,
   "id": "844d9d75",
   "metadata": {},
   "outputs": [
    {
     "name": "stdout",
     "output_type": "stream",
     "text": [
      "On conserve les données de 22 villes\n"
     ]
    }
   ],
   "source": [
    "nb_lieux = data['Location'].unique().shape[0]\n",
    "print(f'On conserve les données de {nb_lieux} villes')"
   ]
  },
  {
   "cell_type": "code",
   "execution_count": 7,
   "id": "77c174ed",
   "metadata": {},
   "outputs": [],
   "source": [
    "#On garde la fourchette de temps dans laquelle on a le moins de données manquantes\n",
    "start_date = max([data[data['Location'] == location].index.min() for location in data['Location'].unique()])\n",
    "end_date = min([data[data['Location'] == location].index.max() for location in data['Location'].unique()])"
   ]
  },
  {
   "cell_type": "code",
   "execution_count": 8,
   "id": "e874b93e",
   "metadata": {},
   "outputs": [],
   "source": [
    "#On garde seulement les données entre start_date et end_date\n",
    "data = data[data.index >= start_date]\n",
    "data = data[data.index <= end_date]"
   ]
  },
  {
   "cell_type": "code",
   "execution_count": 9,
   "id": "ad48b8d0",
   "metadata": {},
   "outputs": [
    {
     "name": "stderr",
     "output_type": "stream",
     "text": [
      "/var/folders/yw/kt9c2n_149ncnw417n00tw640000gn/T/ipykernel_84878/3196589438.py:9: FutureWarning: DataFrame.interpolate with object dtype is deprecated and will raise in a future version. Call obj.infer_objects(copy=False) before interpolating instead.\n",
      "  data_location = data_location.interpolate(method='time')\n",
      "/var/folders/yw/kt9c2n_149ncnw417n00tw640000gn/T/ipykernel_84878/3196589438.py:11: FutureWarning: DataFrame.fillna with 'method' is deprecated and will raise in a future version. Use obj.ffill() or obj.bfill() instead.\n",
      "  data_location.fillna(method='ffill', inplace=True)\n",
      "/var/folders/yw/kt9c2n_149ncnw417n00tw640000gn/T/ipykernel_84878/3196589438.py:9: FutureWarning: DataFrame.interpolate with object dtype is deprecated and will raise in a future version. Call obj.infer_objects(copy=False) before interpolating instead.\n",
      "  data_location = data_location.interpolate(method='time')\n",
      "/var/folders/yw/kt9c2n_149ncnw417n00tw640000gn/T/ipykernel_84878/3196589438.py:11: FutureWarning: DataFrame.fillna with 'method' is deprecated and will raise in a future version. Use obj.ffill() or obj.bfill() instead.\n",
      "  data_location.fillna(method='ffill', inplace=True)\n",
      "/var/folders/yw/kt9c2n_149ncnw417n00tw640000gn/T/ipykernel_84878/3196589438.py:9: FutureWarning: DataFrame.interpolate with object dtype is deprecated and will raise in a future version. Call obj.infer_objects(copy=False) before interpolating instead.\n",
      "  data_location = data_location.interpolate(method='time')\n",
      "/var/folders/yw/kt9c2n_149ncnw417n00tw640000gn/T/ipykernel_84878/3196589438.py:11: FutureWarning: DataFrame.fillna with 'method' is deprecated and will raise in a future version. Use obj.ffill() or obj.bfill() instead.\n",
      "  data_location.fillna(method='ffill', inplace=True)\n",
      "/var/folders/yw/kt9c2n_149ncnw417n00tw640000gn/T/ipykernel_84878/3196589438.py:9: FutureWarning: DataFrame.interpolate with object dtype is deprecated and will raise in a future version. Call obj.infer_objects(copy=False) before interpolating instead.\n",
      "  data_location = data_location.interpolate(method='time')\n",
      "/var/folders/yw/kt9c2n_149ncnw417n00tw640000gn/T/ipykernel_84878/3196589438.py:11: FutureWarning: DataFrame.fillna with 'method' is deprecated and will raise in a future version. Use obj.ffill() or obj.bfill() instead.\n",
      "  data_location.fillna(method='ffill', inplace=True)\n",
      "/var/folders/yw/kt9c2n_149ncnw417n00tw640000gn/T/ipykernel_84878/3196589438.py:9: FutureWarning: DataFrame.interpolate with object dtype is deprecated and will raise in a future version. Call obj.infer_objects(copy=False) before interpolating instead.\n",
      "  data_location = data_location.interpolate(method='time')\n",
      "/var/folders/yw/kt9c2n_149ncnw417n00tw640000gn/T/ipykernel_84878/3196589438.py:11: FutureWarning: DataFrame.fillna with 'method' is deprecated and will raise in a future version. Use obj.ffill() or obj.bfill() instead.\n",
      "  data_location.fillna(method='ffill', inplace=True)\n",
      "/var/folders/yw/kt9c2n_149ncnw417n00tw640000gn/T/ipykernel_84878/3196589438.py:9: FutureWarning: DataFrame.interpolate with object dtype is deprecated and will raise in a future version. Call obj.infer_objects(copy=False) before interpolating instead.\n",
      "  data_location = data_location.interpolate(method='time')\n",
      "/var/folders/yw/kt9c2n_149ncnw417n00tw640000gn/T/ipykernel_84878/3196589438.py:11: FutureWarning: DataFrame.fillna with 'method' is deprecated and will raise in a future version. Use obj.ffill() or obj.bfill() instead.\n",
      "  data_location.fillna(method='ffill', inplace=True)\n",
      "/var/folders/yw/kt9c2n_149ncnw417n00tw640000gn/T/ipykernel_84878/3196589438.py:9: FutureWarning: DataFrame.interpolate with object dtype is deprecated and will raise in a future version. Call obj.infer_objects(copy=False) before interpolating instead.\n",
      "  data_location = data_location.interpolate(method='time')\n",
      "/var/folders/yw/kt9c2n_149ncnw417n00tw640000gn/T/ipykernel_84878/3196589438.py:11: FutureWarning: DataFrame.fillna with 'method' is deprecated and will raise in a future version. Use obj.ffill() or obj.bfill() instead.\n",
      "  data_location.fillna(method='ffill', inplace=True)\n",
      "/var/folders/yw/kt9c2n_149ncnw417n00tw640000gn/T/ipykernel_84878/3196589438.py:9: FutureWarning: DataFrame.interpolate with object dtype is deprecated and will raise in a future version. Call obj.infer_objects(copy=False) before interpolating instead.\n",
      "  data_location = data_location.interpolate(method='time')\n",
      "/var/folders/yw/kt9c2n_149ncnw417n00tw640000gn/T/ipykernel_84878/3196589438.py:11: FutureWarning: DataFrame.fillna with 'method' is deprecated and will raise in a future version. Use obj.ffill() or obj.bfill() instead.\n",
      "  data_location.fillna(method='ffill', inplace=True)\n",
      "/var/folders/yw/kt9c2n_149ncnw417n00tw640000gn/T/ipykernel_84878/3196589438.py:9: FutureWarning: DataFrame.interpolate with object dtype is deprecated and will raise in a future version. Call obj.infer_objects(copy=False) before interpolating instead.\n",
      "  data_location = data_location.interpolate(method='time')\n",
      "/var/folders/yw/kt9c2n_149ncnw417n00tw640000gn/T/ipykernel_84878/3196589438.py:11: FutureWarning: DataFrame.fillna with 'method' is deprecated and will raise in a future version. Use obj.ffill() or obj.bfill() instead.\n",
      "  data_location.fillna(method='ffill', inplace=True)\n",
      "/var/folders/yw/kt9c2n_149ncnw417n00tw640000gn/T/ipykernel_84878/3196589438.py:9: FutureWarning: DataFrame.interpolate with object dtype is deprecated and will raise in a future version. Call obj.infer_objects(copy=False) before interpolating instead.\n",
      "  data_location = data_location.interpolate(method='time')\n",
      "/var/folders/yw/kt9c2n_149ncnw417n00tw640000gn/T/ipykernel_84878/3196589438.py:11: FutureWarning: DataFrame.fillna with 'method' is deprecated and will raise in a future version. Use obj.ffill() or obj.bfill() instead.\n",
      "  data_location.fillna(method='ffill', inplace=True)\n",
      "/var/folders/yw/kt9c2n_149ncnw417n00tw640000gn/T/ipykernel_84878/3196589438.py:9: FutureWarning: DataFrame.interpolate with object dtype is deprecated and will raise in a future version. Call obj.infer_objects(copy=False) before interpolating instead.\n",
      "  data_location = data_location.interpolate(method='time')\n",
      "/var/folders/yw/kt9c2n_149ncnw417n00tw640000gn/T/ipykernel_84878/3196589438.py:11: FutureWarning: DataFrame.fillna with 'method' is deprecated and will raise in a future version. Use obj.ffill() or obj.bfill() instead.\n",
      "  data_location.fillna(method='ffill', inplace=True)\n",
      "/var/folders/yw/kt9c2n_149ncnw417n00tw640000gn/T/ipykernel_84878/3196589438.py:9: FutureWarning: DataFrame.interpolate with object dtype is deprecated and will raise in a future version. Call obj.infer_objects(copy=False) before interpolating instead.\n",
      "  data_location = data_location.interpolate(method='time')\n",
      "/var/folders/yw/kt9c2n_149ncnw417n00tw640000gn/T/ipykernel_84878/3196589438.py:11: FutureWarning: DataFrame.fillna with 'method' is deprecated and will raise in a future version. Use obj.ffill() or obj.bfill() instead.\n",
      "  data_location.fillna(method='ffill', inplace=True)\n",
      "/var/folders/yw/kt9c2n_149ncnw417n00tw640000gn/T/ipykernel_84878/3196589438.py:9: FutureWarning: DataFrame.interpolate with object dtype is deprecated and will raise in a future version. Call obj.infer_objects(copy=False) before interpolating instead.\n",
      "  data_location = data_location.interpolate(method='time')\n",
      "/var/folders/yw/kt9c2n_149ncnw417n00tw640000gn/T/ipykernel_84878/3196589438.py:11: FutureWarning: DataFrame.fillna with 'method' is deprecated and will raise in a future version. Use obj.ffill() or obj.bfill() instead.\n",
      "  data_location.fillna(method='ffill', inplace=True)\n",
      "/var/folders/yw/kt9c2n_149ncnw417n00tw640000gn/T/ipykernel_84878/3196589438.py:9: FutureWarning: DataFrame.interpolate with object dtype is deprecated and will raise in a future version. Call obj.infer_objects(copy=False) before interpolating instead.\n",
      "  data_location = data_location.interpolate(method='time')\n",
      "/var/folders/yw/kt9c2n_149ncnw417n00tw640000gn/T/ipykernel_84878/3196589438.py:11: FutureWarning: DataFrame.fillna with 'method' is deprecated and will raise in a future version. Use obj.ffill() or obj.bfill() instead.\n",
      "  data_location.fillna(method='ffill', inplace=True)\n",
      "/var/folders/yw/kt9c2n_149ncnw417n00tw640000gn/T/ipykernel_84878/3196589438.py:9: FutureWarning: DataFrame.interpolate with object dtype is deprecated and will raise in a future version. Call obj.infer_objects(copy=False) before interpolating instead.\n",
      "  data_location = data_location.interpolate(method='time')\n",
      "/var/folders/yw/kt9c2n_149ncnw417n00tw640000gn/T/ipykernel_84878/3196589438.py:11: FutureWarning: DataFrame.fillna with 'method' is deprecated and will raise in a future version. Use obj.ffill() or obj.bfill() instead.\n",
      "  data_location.fillna(method='ffill', inplace=True)\n",
      "/var/folders/yw/kt9c2n_149ncnw417n00tw640000gn/T/ipykernel_84878/3196589438.py:9: FutureWarning: DataFrame.interpolate with object dtype is deprecated and will raise in a future version. Call obj.infer_objects(copy=False) before interpolating instead.\n",
      "  data_location = data_location.interpolate(method='time')\n",
      "/var/folders/yw/kt9c2n_149ncnw417n00tw640000gn/T/ipykernel_84878/3196589438.py:11: FutureWarning: DataFrame.fillna with 'method' is deprecated and will raise in a future version. Use obj.ffill() or obj.bfill() instead.\n",
      "  data_location.fillna(method='ffill', inplace=True)\n",
      "/var/folders/yw/kt9c2n_149ncnw417n00tw640000gn/T/ipykernel_84878/3196589438.py:9: FutureWarning: DataFrame.interpolate with object dtype is deprecated and will raise in a future version. Call obj.infer_objects(copy=False) before interpolating instead.\n",
      "  data_location = data_location.interpolate(method='time')\n",
      "/var/folders/yw/kt9c2n_149ncnw417n00tw640000gn/T/ipykernel_84878/3196589438.py:11: FutureWarning: DataFrame.fillna with 'method' is deprecated and will raise in a future version. Use obj.ffill() or obj.bfill() instead.\n",
      "  data_location.fillna(method='ffill', inplace=True)\n",
      "/var/folders/yw/kt9c2n_149ncnw417n00tw640000gn/T/ipykernel_84878/3196589438.py:9: FutureWarning: DataFrame.interpolate with object dtype is deprecated and will raise in a future version. Call obj.infer_objects(copy=False) before interpolating instead.\n",
      "  data_location = data_location.interpolate(method='time')\n",
      "/var/folders/yw/kt9c2n_149ncnw417n00tw640000gn/T/ipykernel_84878/3196589438.py:11: FutureWarning: DataFrame.fillna with 'method' is deprecated and will raise in a future version. Use obj.ffill() or obj.bfill() instead.\n",
      "  data_location.fillna(method='ffill', inplace=True)\n",
      "/var/folders/yw/kt9c2n_149ncnw417n00tw640000gn/T/ipykernel_84878/3196589438.py:9: FutureWarning: DataFrame.interpolate with object dtype is deprecated and will raise in a future version. Call obj.infer_objects(copy=False) before interpolating instead.\n",
      "  data_location = data_location.interpolate(method='time')\n",
      "/var/folders/yw/kt9c2n_149ncnw417n00tw640000gn/T/ipykernel_84878/3196589438.py:11: FutureWarning: DataFrame.fillna with 'method' is deprecated and will raise in a future version. Use obj.ffill() or obj.bfill() instead.\n",
      "  data_location.fillna(method='ffill', inplace=True)\n",
      "/var/folders/yw/kt9c2n_149ncnw417n00tw640000gn/T/ipykernel_84878/3196589438.py:9: FutureWarning: DataFrame.interpolate with object dtype is deprecated and will raise in a future version. Call obj.infer_objects(copy=False) before interpolating instead.\n",
      "  data_location = data_location.interpolate(method='time')\n",
      "/var/folders/yw/kt9c2n_149ncnw417n00tw640000gn/T/ipykernel_84878/3196589438.py:11: FutureWarning: DataFrame.fillna with 'method' is deprecated and will raise in a future version. Use obj.ffill() or obj.bfill() instead.\n",
      "  data_location.fillna(method='ffill', inplace=True)\n",
      "/var/folders/yw/kt9c2n_149ncnw417n00tw640000gn/T/ipykernel_84878/3196589438.py:9: FutureWarning: DataFrame.interpolate with object dtype is deprecated and will raise in a future version. Call obj.infer_objects(copy=False) before interpolating instead.\n",
      "  data_location = data_location.interpolate(method='time')\n",
      "/var/folders/yw/kt9c2n_149ncnw417n00tw640000gn/T/ipykernel_84878/3196589438.py:11: FutureWarning: DataFrame.fillna with 'method' is deprecated and will raise in a future version. Use obj.ffill() or obj.bfill() instead.\n",
      "  data_location.fillna(method='ffill', inplace=True)\n",
      "/var/folders/yw/kt9c2n_149ncnw417n00tw640000gn/T/ipykernel_84878/3196589438.py:9: FutureWarning: DataFrame.interpolate with object dtype is deprecated and will raise in a future version. Call obj.infer_objects(copy=False) before interpolating instead.\n",
      "  data_location = data_location.interpolate(method='time')\n",
      "/var/folders/yw/kt9c2n_149ncnw417n00tw640000gn/T/ipykernel_84878/3196589438.py:11: FutureWarning: DataFrame.fillna with 'method' is deprecated and will raise in a future version. Use obj.ffill() or obj.bfill() instead.\n",
      "  data_location.fillna(method='ffill', inplace=True)\n"
     ]
    }
   ],
   "source": [
    "#On ajoute les jours manquants\n",
    "all_dates = pd.date_range(start=start_date, end=end_date, freq='D')\n",
    "all_locations = data['Location'].unique()\n",
    "full_data = []\n",
    "for location in all_locations:\n",
    "    data_location = data[data['Location'] == location]\n",
    "    data_location = data_location.reindex(all_dates)\n",
    "    #On fait de l'interpolation pour les variables continues\n",
    "    data_location = data_location.interpolate(method='time')\n",
    "    #On met la dernière valeur non nulle pour les variables catégorielles\n",
    "    data_location.fillna(method='ffill', inplace=True)\n",
    "    data_location.drop('Location', axis=1, inplace=True)\n",
    "    data_location['RainToday'] = data_location['RainToday'].astype('int64')\n",
    "    data_location['RainTomorrow'] = data_location['RainTomorrow'].astype('int64')\n",
    "    full_data.append(data_location)\n",
    "#full_data = pd.concat(full_data)"
   ]
  },
  {
   "cell_type": "code",
   "execution_count": 10,
   "id": "4d06d4fa",
   "metadata": {},
   "outputs": [
    {
     "data": {
      "text/plain": [
       "(22, 2016, 23)"
      ]
     },
     "execution_count": 10,
     "metadata": {},
     "output_type": "execute_result"
    }
   ],
   "source": [
    "np.array(full_data).shape"
   ]
  },
  {
   "cell_type": "code",
   "execution_count": 11,
   "id": "655be7f3",
   "metadata": {},
   "outputs": [
    {
     "name": "stdout",
     "output_type": "stream",
     "text": [
      "full_data gives, for 22 cities, a row of information for each day in [2010-10-20 00:00:00,2016-04-26 00:00:00]\n",
      "We have 2016 rows per city.\n"
     ]
    }
   ],
   "source": [
    "print(f'full_data gives, for 22 cities, a row of information for each day in [{start_date},{end_date}]')\n",
    "print(f'We have {full_data[0].shape[0]} rows per city.')"
   ]
  },
  {
   "cell_type": "markdown",
   "id": "cc716877",
   "metadata": {},
   "source": [
    "### One Hot Encoding of categorical variables"
   ]
  },
  {
   "cell_type": "code",
   "execution_count": 12,
   "id": "500255f6",
   "metadata": {},
   "outputs": [],
   "source": [
    "numerical = [var for var in full_data[0].columns if full_data[0][var].dtype=='float64']\n",
    "integer = [var for var in full_data[0].columns if full_data[0][var].dtype=='int64']\n",
    "categorical = [var for var in full_data[0].columns if full_data[0][var].dtype=='O'] "
   ]
  },
  {
   "cell_type": "code",
   "execution_count": 13,
   "id": "fa0454d0",
   "metadata": {},
   "outputs": [],
   "source": [
    "for loc_i in range(len(full_data)):\n",
    "    full_data[loc_i] = pd.concat([full_data[loc_i][numerical+integer], pd.get_dummies(full_data[loc_i][categorical])], axis=1)"
   ]
  },
  {
   "cell_type": "markdown",
   "id": "3367dddb",
   "metadata": {},
   "source": [
    "### Normalize Data"
   ]
  },
  {
   "cell_type": "code",
   "execution_count": 14,
   "id": "e4c7948c",
   "metadata": {},
   "outputs": [],
   "source": [
    "scaler = StandardScaler()\n",
    "\n",
    "for loc_i in range(len(full_data)):\n",
    "    full_data[loc_i][numerical] = scaler.fit_transform(full_data[loc_i][numerical])"
   ]
  },
  {
   "cell_type": "code",
   "execution_count": null,
   "id": "5594319e",
   "metadata": {},
   "outputs": [],
   "source": [
    "for i in range(len(full_data)):\n",
    "    full_data[i] = full_data[i].astype(np.float32)"
   ]
  },
  {
   "cell_type": "code",
   "execution_count": 25,
   "id": "09cc4a8d",
   "metadata": {},
   "outputs": [
    {
     "data": {
      "text/html": [
       "<div>\n",
       "<style scoped>\n",
       "    .dataframe tbody tr th:only-of-type {\n",
       "        vertical-align: middle;\n",
       "    }\n",
       "\n",
       "    .dataframe tbody tr th {\n",
       "        vertical-align: top;\n",
       "    }\n",
       "\n",
       "    .dataframe thead th {\n",
       "        text-align: right;\n",
       "    }\n",
       "</style>\n",
       "<table border=\"1\" class=\"dataframe\">\n",
       "  <thead>\n",
       "    <tr style=\"text-align: right;\">\n",
       "      <th></th>\n",
       "      <th>MinTemp</th>\n",
       "      <th>MaxTemp</th>\n",
       "      <th>Rainfall</th>\n",
       "      <th>Evaporation</th>\n",
       "      <th>Sunshine</th>\n",
       "      <th>WindGustSpeed</th>\n",
       "      <th>WindSpeed9am</th>\n",
       "      <th>WindSpeed3pm</th>\n",
       "      <th>Humidity9am</th>\n",
       "      <th>Humidity3pm</th>\n",
       "      <th>Pressure9am</th>\n",
       "      <th>Pressure3pm</th>\n",
       "      <th>Cloud9am</th>\n",
       "      <th>Cloud3pm</th>\n",
       "      <th>Temp9am</th>\n",
       "      <th>Temp3pm</th>\n",
       "      <th>cos_time</th>\n",
       "      <th>sin_time</th>\n",
       "      <th>RainToday</th>\n",
       "      <th>RainTomorrow</th>\n",
       "      <th>WindGustDir_E</th>\n",
       "      <th>WindGustDir_ENE</th>\n",
       "      <th>WindGustDir_ESE</th>\n",
       "      <th>WindGustDir_N</th>\n",
       "      <th>WindGustDir_NE</th>\n",
       "      <th>WindGustDir_NNE</th>\n",
       "      <th>WindGustDir_NNW</th>\n",
       "      <th>WindGustDir_NW</th>\n",
       "      <th>WindGustDir_S</th>\n",
       "      <th>WindGustDir_SE</th>\n",
       "      <th>WindGustDir_SSE</th>\n",
       "      <th>WindGustDir_SSW</th>\n",
       "      <th>WindGustDir_SW</th>\n",
       "      <th>WindGustDir_W</th>\n",
       "      <th>WindGustDir_WNW</th>\n",
       "      <th>WindGustDir_WSW</th>\n",
       "      <th>WindDir9am_E</th>\n",
       "      <th>WindDir9am_ENE</th>\n",
       "      <th>WindDir9am_ESE</th>\n",
       "      <th>WindDir9am_N</th>\n",
       "      <th>WindDir9am_NE</th>\n",
       "      <th>WindDir9am_NNE</th>\n",
       "      <th>WindDir9am_NNW</th>\n",
       "      <th>WindDir9am_NW</th>\n",
       "      <th>WindDir9am_S</th>\n",
       "      <th>WindDir9am_SE</th>\n",
       "      <th>WindDir9am_SSE</th>\n",
       "      <th>WindDir9am_SSW</th>\n",
       "      <th>WindDir9am_SW</th>\n",
       "      <th>WindDir9am_W</th>\n",
       "      <th>WindDir9am_WNW</th>\n",
       "      <th>WindDir9am_WSW</th>\n",
       "      <th>WindDir3pm_E</th>\n",
       "      <th>WindDir3pm_ENE</th>\n",
       "      <th>WindDir3pm_ESE</th>\n",
       "      <th>WindDir3pm_N</th>\n",
       "      <th>WindDir3pm_NE</th>\n",
       "      <th>WindDir3pm_NNE</th>\n",
       "      <th>WindDir3pm_NNW</th>\n",
       "      <th>WindDir3pm_NW</th>\n",
       "      <th>WindDir3pm_S</th>\n",
       "      <th>WindDir3pm_SE</th>\n",
       "      <th>WindDir3pm_SSE</th>\n",
       "      <th>WindDir3pm_SSW</th>\n",
       "      <th>WindDir3pm_SW</th>\n",
       "      <th>WindDir3pm_W</th>\n",
       "      <th>WindDir3pm_WNW</th>\n",
       "      <th>WindDir3pm_WSW</th>\n",
       "    </tr>\n",
       "  </thead>\n",
       "  <tbody>\n",
       "    <tr>\n",
       "      <th>2010-10-20</th>\n",
       "      <td>-0.193741</td>\n",
       "      <td>-0.003778</td>\n",
       "      <td>-0.302792</td>\n",
       "      <td>-0.472464</td>\n",
       "      <td>0.997965</td>\n",
       "      <td>-0.284700</td>\n",
       "      <td>-0.538669</td>\n",
       "      <td>-0.752841</td>\n",
       "      <td>0.237376</td>\n",
       "      <td>-0.267667</td>\n",
       "      <td>1.366063</td>\n",
       "      <td>1.293802</td>\n",
       "      <td>-1.188528</td>\n",
       "      <td>-0.804273</td>\n",
       "      <td>-0.073101</td>\n",
       "      <td>-0.006977</td>\n",
       "      <td>0.420689</td>\n",
       "      <td>-1.354426</td>\n",
       "      <td>0.0</td>\n",
       "      <td>0.0</td>\n",
       "      <td>0.0</td>\n",
       "      <td>0.0</td>\n",
       "      <td>0.0</td>\n",
       "      <td>0.0</td>\n",
       "      <td>0.0</td>\n",
       "      <td>1.0</td>\n",
       "      <td>0.0</td>\n",
       "      <td>0.0</td>\n",
       "      <td>0.0</td>\n",
       "      <td>0.0</td>\n",
       "      <td>0.0</td>\n",
       "      <td>0.0</td>\n",
       "      <td>0.0</td>\n",
       "      <td>0.0</td>\n",
       "      <td>0.0</td>\n",
       "      <td>0.0</td>\n",
       "      <td>0.0</td>\n",
       "      <td>1.0</td>\n",
       "      <td>0.0</td>\n",
       "      <td>0.0</td>\n",
       "      <td>0.0</td>\n",
       "      <td>0.0</td>\n",
       "      <td>0.0</td>\n",
       "      <td>0.0</td>\n",
       "      <td>0.0</td>\n",
       "      <td>0.0</td>\n",
       "      <td>0.0</td>\n",
       "      <td>0.0</td>\n",
       "      <td>0.0</td>\n",
       "      <td>0.0</td>\n",
       "      <td>0.0</td>\n",
       "      <td>0.0</td>\n",
       "      <td>0.0</td>\n",
       "      <td>0.0</td>\n",
       "      <td>0.0</td>\n",
       "      <td>1.0</td>\n",
       "      <td>0.0</td>\n",
       "      <td>0.0</td>\n",
       "      <td>0.0</td>\n",
       "      <td>0.0</td>\n",
       "      <td>0.0</td>\n",
       "      <td>0.0</td>\n",
       "      <td>0.0</td>\n",
       "      <td>0.0</td>\n",
       "      <td>0.0</td>\n",
       "      <td>0.0</td>\n",
       "      <td>0.0</td>\n",
       "      <td>0.0</td>\n",
       "    </tr>\n",
       "    <tr>\n",
       "      <th>2010-10-21</th>\n",
       "      <td>0.227810</td>\n",
       "      <td>-0.707366</td>\n",
       "      <td>-0.302792</td>\n",
       "      <td>-0.426408</td>\n",
       "      <td>-2.248505</td>\n",
       "      <td>-0.481092</td>\n",
       "      <td>-1.427704</td>\n",
       "      <td>-0.470078</td>\n",
       "      <td>1.804788</td>\n",
       "      <td>2.250345</td>\n",
       "      <td>1.279783</td>\n",
       "      <td>1.132882</td>\n",
       "      <td>1.519772</td>\n",
       "      <td>1.376807</td>\n",
       "      <td>-0.611082</td>\n",
       "      <td>-1.145110</td>\n",
       "      <td>0.443479</td>\n",
       "      <td>-1.345686</td>\n",
       "      <td>0.0</td>\n",
       "      <td>0.0</td>\n",
       "      <td>0.0</td>\n",
       "      <td>0.0</td>\n",
       "      <td>0.0</td>\n",
       "      <td>0.0</td>\n",
       "      <td>1.0</td>\n",
       "      <td>0.0</td>\n",
       "      <td>0.0</td>\n",
       "      <td>0.0</td>\n",
       "      <td>0.0</td>\n",
       "      <td>0.0</td>\n",
       "      <td>0.0</td>\n",
       "      <td>0.0</td>\n",
       "      <td>0.0</td>\n",
       "      <td>0.0</td>\n",
       "      <td>0.0</td>\n",
       "      <td>0.0</td>\n",
       "      <td>0.0</td>\n",
       "      <td>0.0</td>\n",
       "      <td>0.0</td>\n",
       "      <td>0.0</td>\n",
       "      <td>1.0</td>\n",
       "      <td>0.0</td>\n",
       "      <td>0.0</td>\n",
       "      <td>0.0</td>\n",
       "      <td>0.0</td>\n",
       "      <td>0.0</td>\n",
       "      <td>0.0</td>\n",
       "      <td>0.0</td>\n",
       "      <td>0.0</td>\n",
       "      <td>0.0</td>\n",
       "      <td>0.0</td>\n",
       "      <td>0.0</td>\n",
       "      <td>0.0</td>\n",
       "      <td>0.0</td>\n",
       "      <td>0.0</td>\n",
       "      <td>0.0</td>\n",
       "      <td>0.0</td>\n",
       "      <td>0.0</td>\n",
       "      <td>0.0</td>\n",
       "      <td>1.0</td>\n",
       "      <td>0.0</td>\n",
       "      <td>0.0</td>\n",
       "      <td>0.0</td>\n",
       "      <td>0.0</td>\n",
       "      <td>0.0</td>\n",
       "      <td>0.0</td>\n",
       "      <td>0.0</td>\n",
       "      <td>0.0</td>\n",
       "    </tr>\n",
       "    <tr>\n",
       "      <th>2010-10-22</th>\n",
       "      <td>0.062200</td>\n",
       "      <td>-0.187323</td>\n",
       "      <td>-0.302792</td>\n",
       "      <td>-0.886964</td>\n",
       "      <td>0.493659</td>\n",
       "      <td>0.108084</td>\n",
       "      <td>0.054021</td>\n",
       "      <td>-0.470078</td>\n",
       "      <td>0.629229</td>\n",
       "      <td>0.669268</td>\n",
       "      <td>0.744852</td>\n",
       "      <td>0.614365</td>\n",
       "      <td>0.359072</td>\n",
       "      <td>0.504375</td>\n",
       "      <td>-0.126899</td>\n",
       "      <td>-0.247428</td>\n",
       "      <td>0.466117</td>\n",
       "      <td>-1.336555</td>\n",
       "      <td>0.0</td>\n",
       "      <td>1.0</td>\n",
       "      <td>0.0</td>\n",
       "      <td>0.0</td>\n",
       "      <td>0.0</td>\n",
       "      <td>0.0</td>\n",
       "      <td>0.0</td>\n",
       "      <td>0.0</td>\n",
       "      <td>0.0</td>\n",
       "      <td>0.0</td>\n",
       "      <td>0.0</td>\n",
       "      <td>0.0</td>\n",
       "      <td>1.0</td>\n",
       "      <td>0.0</td>\n",
       "      <td>0.0</td>\n",
       "      <td>0.0</td>\n",
       "      <td>0.0</td>\n",
       "      <td>0.0</td>\n",
       "      <td>0.0</td>\n",
       "      <td>0.0</td>\n",
       "      <td>0.0</td>\n",
       "      <td>0.0</td>\n",
       "      <td>0.0</td>\n",
       "      <td>1.0</td>\n",
       "      <td>0.0</td>\n",
       "      <td>0.0</td>\n",
       "      <td>0.0</td>\n",
       "      <td>0.0</td>\n",
       "      <td>0.0</td>\n",
       "      <td>0.0</td>\n",
       "      <td>0.0</td>\n",
       "      <td>0.0</td>\n",
       "      <td>0.0</td>\n",
       "      <td>0.0</td>\n",
       "      <td>0.0</td>\n",
       "      <td>0.0</td>\n",
       "      <td>0.0</td>\n",
       "      <td>0.0</td>\n",
       "      <td>0.0</td>\n",
       "      <td>0.0</td>\n",
       "      <td>0.0</td>\n",
       "      <td>1.0</td>\n",
       "      <td>0.0</td>\n",
       "      <td>0.0</td>\n",
       "      <td>0.0</td>\n",
       "      <td>0.0</td>\n",
       "      <td>0.0</td>\n",
       "      <td>0.0</td>\n",
       "      <td>0.0</td>\n",
       "      <td>0.0</td>\n",
       "    </tr>\n",
       "    <tr>\n",
       "      <th>2010-10-23</th>\n",
       "      <td>-0.088353</td>\n",
       "      <td>0.164471</td>\n",
       "      <td>0.879402</td>\n",
       "      <td>-0.449436</td>\n",
       "      <td>0.934927</td>\n",
       "      <td>-1.364857</td>\n",
       "      <td>-0.242324</td>\n",
       "      <td>-0.752841</td>\n",
       "      <td>0.890465</td>\n",
       "      <td>-0.150550</td>\n",
       "      <td>0.296200</td>\n",
       "      <td>0.256767</td>\n",
       "      <td>-1.188528</td>\n",
       "      <td>0.504375</td>\n",
       "      <td>0.016563</td>\n",
       "      <td>0.217443</td>\n",
       "      <td>0.488593</td>\n",
       "      <td>-1.327036</td>\n",
       "      <td>1.0</td>\n",
       "      <td>0.0</td>\n",
       "      <td>1.0</td>\n",
       "      <td>0.0</td>\n",
       "      <td>0.0</td>\n",
       "      <td>0.0</td>\n",
       "      <td>0.0</td>\n",
       "      <td>0.0</td>\n",
       "      <td>0.0</td>\n",
       "      <td>0.0</td>\n",
       "      <td>0.0</td>\n",
       "      <td>0.0</td>\n",
       "      <td>0.0</td>\n",
       "      <td>0.0</td>\n",
       "      <td>0.0</td>\n",
       "      <td>0.0</td>\n",
       "      <td>0.0</td>\n",
       "      <td>0.0</td>\n",
       "      <td>0.0</td>\n",
       "      <td>0.0</td>\n",
       "      <td>0.0</td>\n",
       "      <td>0.0</td>\n",
       "      <td>0.0</td>\n",
       "      <td>1.0</td>\n",
       "      <td>0.0</td>\n",
       "      <td>0.0</td>\n",
       "      <td>0.0</td>\n",
       "      <td>0.0</td>\n",
       "      <td>0.0</td>\n",
       "      <td>0.0</td>\n",
       "      <td>0.0</td>\n",
       "      <td>0.0</td>\n",
       "      <td>0.0</td>\n",
       "      <td>0.0</td>\n",
       "      <td>0.0</td>\n",
       "      <td>0.0</td>\n",
       "      <td>0.0</td>\n",
       "      <td>0.0</td>\n",
       "      <td>0.0</td>\n",
       "      <td>0.0</td>\n",
       "      <td>0.0</td>\n",
       "      <td>0.0</td>\n",
       "      <td>0.0</td>\n",
       "      <td>0.0</td>\n",
       "      <td>0.0</td>\n",
       "      <td>0.0</td>\n",
       "      <td>0.0</td>\n",
       "      <td>0.0</td>\n",
       "      <td>0.0</td>\n",
       "      <td>1.0</td>\n",
       "    </tr>\n",
       "    <tr>\n",
       "      <th>2010-10-24</th>\n",
       "      <td>0.212754</td>\n",
       "      <td>-1.120342</td>\n",
       "      <td>-0.302792</td>\n",
       "      <td>-0.495492</td>\n",
       "      <td>-2.311543</td>\n",
       "      <td>0.402672</td>\n",
       "      <td>-0.835014</td>\n",
       "      <td>-1.035603</td>\n",
       "      <td>1.282318</td>\n",
       "      <td>2.777371</td>\n",
       "      <td>-0.186964</td>\n",
       "      <td>0.381926</td>\n",
       "      <td>1.519772</td>\n",
       "      <td>1.376807</td>\n",
       "      <td>-0.126899</td>\n",
       "      <td>-1.369531</td>\n",
       "      <td>0.510903</td>\n",
       "      <td>-1.317130</td>\n",
       "      <td>0.0</td>\n",
       "      <td>1.0</td>\n",
       "      <td>0.0</td>\n",
       "      <td>0.0</td>\n",
       "      <td>0.0</td>\n",
       "      <td>0.0</td>\n",
       "      <td>0.0</td>\n",
       "      <td>0.0</td>\n",
       "      <td>0.0</td>\n",
       "      <td>0.0</td>\n",
       "      <td>0.0</td>\n",
       "      <td>0.0</td>\n",
       "      <td>0.0</td>\n",
       "      <td>0.0</td>\n",
       "      <td>1.0</td>\n",
       "      <td>0.0</td>\n",
       "      <td>0.0</td>\n",
       "      <td>0.0</td>\n",
       "      <td>0.0</td>\n",
       "      <td>0.0</td>\n",
       "      <td>0.0</td>\n",
       "      <td>0.0</td>\n",
       "      <td>0.0</td>\n",
       "      <td>0.0</td>\n",
       "      <td>0.0</td>\n",
       "      <td>0.0</td>\n",
       "      <td>0.0</td>\n",
       "      <td>0.0</td>\n",
       "      <td>0.0</td>\n",
       "      <td>1.0</td>\n",
       "      <td>0.0</td>\n",
       "      <td>0.0</td>\n",
       "      <td>0.0</td>\n",
       "      <td>0.0</td>\n",
       "      <td>1.0</td>\n",
       "      <td>0.0</td>\n",
       "      <td>0.0</td>\n",
       "      <td>0.0</td>\n",
       "      <td>0.0</td>\n",
       "      <td>0.0</td>\n",
       "      <td>0.0</td>\n",
       "      <td>0.0</td>\n",
       "      <td>0.0</td>\n",
       "      <td>0.0</td>\n",
       "      <td>0.0</td>\n",
       "      <td>0.0</td>\n",
       "      <td>0.0</td>\n",
       "      <td>0.0</td>\n",
       "      <td>0.0</td>\n",
       "      <td>0.0</td>\n",
       "    </tr>\n",
       "  </tbody>\n",
       "</table>\n",
       "</div>"
      ],
      "text/plain": [
       "             MinTemp   MaxTemp  ...  WindDir3pm_WNW  WindDir3pm_WSW\n",
       "2010-10-20 -0.193741 -0.003778  ...             0.0             0.0\n",
       "2010-10-21  0.227810 -0.707366  ...             0.0             0.0\n",
       "2010-10-22  0.062200 -0.187323  ...             0.0             0.0\n",
       "2010-10-23 -0.088353  0.164471  ...             0.0             1.0\n",
       "2010-10-24  0.212754 -1.120342  ...             0.0             0.0\n",
       "\n",
       "[5 rows x 68 columns]"
      ]
     },
     "execution_count": 25,
     "metadata": {},
     "output_type": "execute_result"
    }
   ],
   "source": [
    "full_data[0].head()"
   ]
  },
  {
   "cell_type": "markdown",
   "id": "87c5c668",
   "metadata": {},
   "source": [
    "## B. LSTM_model Class"
   ]
  },
  {
   "cell_type": "markdown",
   "id": "5f845e3f",
   "metadata": {},
   "source": [
    "We will use LSTMs to predict the variable RainTomorrow using the data of a sequence of previous dates's features.\n",
    "\n",
    "We create a LSTM class that will simplify the test of LSTM models on our dataset.\n",
    "\n",
    "Later, we will be able to adjust the length of the sequence used to do a prediction, as well as the architecture of the model and the learning parameters."
   ]
  },
  {
   "cell_type": "code",
   "execution_count": 55,
   "id": "9fecc93a",
   "metadata": {},
   "outputs": [],
   "source": [
    "class LSTM_model():\n",
    "    def __init__(self, name='', full_data=full_data, prev_times=7):\n",
    "        '''\n",
    "        Input :     full_data.shape = (nb_cities, nb_days, nb_features)\n",
    "                    prev_times : number of previous times to consider/ length of the sequence used by the LSTM model\n",
    "        '''\n",
    "        self.name = name\n",
    "        self.prev_times = prev_times\n",
    "        self.full_data = full_data\n",
    "        self.data_transformed = False\n",
    "        self.X_supervised = None\n",
    "        self.y_supervised = None\n",
    "        self.model = None\n",
    "        self.cv = None\n",
    "        self.history = []\n",
    "        self.accuracy = []\n",
    "        self.score = None\n",
    "        self.model_checkpoint = ModelCheckpoint(f'best_{self.name}/', save_best_only=True, monitor='accuracy', mode='max')\n",
    "        self.best_model = None\n",
    "\n",
    "    # convert a dataframe to the \"supervised learning\" format\n",
    "    def series_to_supervised(self, x, y, prev_times=7, dropnan=True):\n",
    "        '''\n",
    "        Input :     x.shape = (nb_days, nb_features)\n",
    "                    y.shape = (nb_days,)\n",
    "                    prev_times : number of previous times to consider\n",
    "\n",
    "        Output :    x.shape = (nb_days-prev_times, (prev_times+1)*nb_features)\n",
    "                    y.shape = (nb_days-prev_times,)\n",
    "        '''\n",
    "        n_vars = x.shape[1]\n",
    "        cols, names = list(), list()\n",
    "        # input sequence (t-prev_times, ..., t)\n",
    "        for i in range(prev_times, 0, -1):\n",
    "            cols.append(x.shift(i))\n",
    "            names += [f'{x.columns[j]}(d-{i})' for j in range(n_vars)]\n",
    "        cols.append(x)\n",
    "        names += [f'{x.columns[j]}(d)' for j in range(n_vars)]\n",
    "        # forecast RainTomorrow(t+1)\n",
    "        cols.append(y)\n",
    "        names += ['RainTommorow(d)']\n",
    "        # put it all together\n",
    "        agg = pd.concat(cols, axis=1)\n",
    "        agg.columns = names\n",
    "        # drop rows with NaN values\n",
    "        if dropnan:\n",
    "            agg.dropna(inplace=True)\n",
    "        return agg.drop('RainTommorow(d)', axis=1), agg['RainTommorow(d)']\n",
    "    \n",
    "    #We transform the data to make it compatible with the LSTM model\n",
    "    def transform_data(self):\n",
    "        if self.data_transformed:\n",
    "            return self.X_supervised, self.y_supervised\n",
    "        X=[]\n",
    "        y=[]\n",
    "        for i in range(len(self.full_data)):\n",
    "            X_city, y_city = self.full_data[i].drop('RainTomorrow', axis=1), self.full_data[i]['RainTomorrow']\n",
    "            X_city, y_city = self.series_to_supervised(X_city, y_city, self.prev_times)\n",
    "            X.append(X_city.values)\n",
    "            y.append(y_city.values)\n",
    "        X = np.array(X)\n",
    "        y = np.array(y)\n",
    "        X = X.reshape((X.shape[0]*X.shape[1], X.shape[2]))\n",
    "        y = y.reshape((y.shape[0]*y.shape[1]))\n",
    "        X = X.reshape((X.shape[0], self.prev_times+1, X.shape[1]//(self.prev_times+1)))\n",
    "        self.X_supervised = X\n",
    "        self.y_supervised = y\n",
    "        self.data_transformed = True\n",
    "    \n",
    "    #Define a cross-validation strategy\n",
    "    def define_cv(self, n_splits=5, shuffle=True, random_state=42):\n",
    "        '''\n",
    "        Input :     n_splits : number of folds\n",
    "        Output :    cv : cross-validation strategy\n",
    "        '''\n",
    "        self.cv = StratifiedKFold(n_splits=n_splits, shuffle=shuffle, random_state=random_state)\n",
    "        return self.cv\n",
    "    \n",
    "    # design network\n",
    "    def create_lstm_model(self,nb_layers=1,nb_neurons=[64], learning_rate=0.01, print_summary=True):\n",
    "        '''\n",
    "        Input :     input_shape : shape of the input\n",
    "                    nb_layers : number of LSTM layers\n",
    "                    nb_neurons : number of neurons in each LSTM layer\n",
    "                    learning_rate : learning rate of the optimizer\n",
    "        Output :    model : LSTM model\n",
    "        '''\n",
    "        if not self.data_transformed:\n",
    "            self.transform_data()\n",
    "        model = Sequential()\n",
    "        for i in range(nb_layers):\n",
    "            if i==0:\n",
    "                model.add(LSTM(nb_neurons[i], activation='tanh', return_sequences=True, input_shape=(self.X_supervised.shape[1],self.X_supervised.shape[2])))\n",
    "            elif i==nb_layers-1:\n",
    "                model.add(LSTM(nb_neurons[nb_layers-1], activation='tanh', return_sequences=False))\n",
    "            else:\n",
    "                model.add(LSTM(nb_neurons[i], activation='tanh', return_sequences=True))\n",
    "        model.add(Dense(1, activation='sigmoid'))\n",
    "        model.compile(loss=BinaryCrossentropy(), optimizer=Adam(learning_rate=learning_rate), metrics=['accuracy'])\n",
    "        if print_summary:\n",
    "            print(model.summary())\n",
    "        return model\n",
    "    \n",
    "    #fit one LSTM model with (X_train, y_train)-(X_test, y_test) split\n",
    "    def fit(self, X_train, X_test, y_train, y_test, epochs=10, batch_size=64, callbacks=None):\n",
    "        '''\n",
    "        Input :     callbacks : callbacks to use (for example to keep track of the best model during training)\n",
    "        Output :    model : fitted LSTM model\n",
    "        '''\n",
    "        if self.model is None:\n",
    "            raise ValueError('You must assign a model before fitting it')\n",
    "        self.history.append(self.model.fit(X_train, y_train, epochs=epochs, batch_size=batch_size, callbacks=callbacks, validation_data=(X_test, y_test)))\n",
    "        \n",
    "        return self.model\n",
    "    \n",
    "    # evaluate a model using cross-validation\n",
    "    def evaluate(self, nb_layers=1, nb_neurons=[64], learning_rate= 0.01,n_splits=5,epochs=10, batch_size=64, random_state=42, shuffle=True, use_model_checkpoint=False, reset_model_checkpoint=True):\n",
    "        '''\n",
    "        Input :     (nb_layers, nb_neurons, learning_rate) : parameters of the LSTM model to evaluate\n",
    "                    (epochs, batch_size) : parameters of the fit method\n",
    "                    n_splits : number of folds for cross-validation\n",
    "                    use_model_checkpoint : whether to register the best model during training or not\n",
    "                    reset_model_checkpoint : whether to reset the model_checkpoint or not (if True, we return the score of the best model during training)\n",
    "        Output :    score : accuracy score of the model (the one of the best model if reset_model_checkpoint=True & use_model_checkpoint=True, the one of the last model otherwise)\n",
    "        '''\n",
    "        self.transform_data() #We make sure that the data is transformed in the right format\n",
    "        self.history = []\n",
    "        self.accuracy = []\n",
    "        callbacks=None\n",
    "        print_summary = True\n",
    "        #If we don't use cross-validation\n",
    "        if n_splits==1:\n",
    "            if reset_model_checkpoint and use_model_checkpoint: \n",
    "                self.initialize_model_checkpoint()\n",
    "            if use_model_checkpoint:\n",
    "                callbacks=[self.model_checkpoint]\n",
    "            X_train, X_test, y_train, y_test = train_test_split(self.X_supervised, self.y_supervised, test_size=0.2, random_state=random_state)\n",
    "            self.model = self.create_lstm_model(nb_layers=nb_layers, nb_neurons=nb_neurons, learning_rate=learning_rate)\n",
    "            self.fit(X_train, X_test, y_train, y_test, epochs=epochs, batch_size=batch_size, callbacks=callbacks)\n",
    "            if use_model_checkpoint:\n",
    "                self.best_model = load_model(f'best_{self.name}/')\n",
    "            if use_model_checkpoint and reset_model_checkpoint: #If we reset the model_checkpoint, we load the best model\n",
    "                _, accuracy = self.best_model.evaluate(X_test, y_test, verbose=0)\n",
    "            else:                                               #Otherwise, we load the last model\n",
    "                _, accuracy = self.model.evaluate(X_test, y_test, verbose=0)\n",
    "            self.score = accuracy\n",
    "            print(f'Accuracy score: {100*self.score:.2f}')\n",
    "        #If we use cross-validation\n",
    "        elif n_splits>1:\n",
    "            self.define_cv(n_splits=n_splits, random_state=random_state, shuffle=True)\n",
    "            for train_index, test_index in self.cv.split(self.X_supervised, self.y_supervised):\n",
    "                if reset_model_checkpoint and use_model_checkpoint: \n",
    "                    self.initialize_model_checkpoint()\n",
    "                if use_model_checkpoint:\n",
    "                    callbacks=[self.model_checkpoint]\n",
    "                X_train, X_test = self.X_supervised[train_index], self.X_supervised[test_index]\n",
    "                y_train, y_test = self.y_supervised[train_index], self.y_supervised[test_index] \n",
    "                self.model = self.create_lstm_model(nb_layers=nb_layers, nb_neurons=nb_neurons, learning_rate=learning_rate, print_summary=print_summary)\n",
    "                self.fit(X_train, X_test, y_train, y_test, epochs=epochs, batch_size=batch_size, callbacks=callbacks)\n",
    "                print_summary=False\n",
    "                if use_model_checkpoint:\n",
    "                    self.best_model = load_model(f'best_{self.name}/')\n",
    "                if reset_model_checkpoint and use_model_checkpoint:\n",
    "                    _, accuracy = self.best_model.evaluate(X_test, y_test, verbose=0)\n",
    "                else:\n",
    "                    _, accuracy = self.model.evaluate(X_test, y_test, verbose=0)\n",
    "                self.accuracy.append(accuracy)\n",
    "            self.score = np.mean(self.accuracy)\n",
    "            print(f'Accuracy score: {100*self.score:.2f}')\n",
    "\n",
    "    # plot history\n",
    "    def plot_history(self, history, specific_label=''):\n",
    "        plt.plot(history.history['accuracy'], label='accuracy_train')\n",
    "        plt.plot(history.history['val_accuracy'], label='accuracy_test')\n",
    "        plt.xlabel('Epoch')\n",
    "        plt.ylabel('Accuracy')\n",
    "        plt.title(specific_label)\n",
    "        plt.legend()\n",
    "\n",
    "    # plot history of each training (for each fold)\n",
    "    def plot_all_history(self, model='LSTM'):\n",
    "        k = len(self.history)\n",
    "        plt.figure(figsize=(15, 2*k))\n",
    "        for i in range(k):\n",
    "            plt.subplot(k//3+2, 3, i+1)\n",
    "            self.plot_history(self.history[i], specific_label=f'fold {i+1}')\n",
    "        plt.suptitle(model + f' Accuracy during training (prev_times={self.prev_times})', fontsize = '15', fontweight='bold')    \n",
    "        plt.show()\n",
    "    \n",
    "    # Reset the model_checkpoint (to keep track of the best model during training)\n",
    "    def initialize_model_checkpoint(self):\n",
    "        self.model_checkpoint = ModelCheckpoint(f'best_{self.name}/', save_best_only=True, monitor='val_accuracy', mode='max')"
   ]
  },
  {
   "cell_type": "markdown",
   "id": "d4ee6697",
   "metadata": {},
   "source": [
    "## C. One Location"
   ]
  },
  {
   "cell_type": "markdown",
   "id": "0fd048c2",
   "metadata": {},
   "source": [
    "We keep the data of a single city."
   ]
  },
  {
   "cell_type": "markdown",
   "id": "345128b8",
   "metadata": {},
   "source": [
    "### Data preparation"
   ]
  },
  {
   "cell_type": "code",
   "execution_count": 17,
   "id": "9db9b6c5",
   "metadata": {},
   "outputs": [],
   "source": [
    "city = np.random.randint(0,22)\n",
    "df = [full_data[city]]"
   ]
  },
  {
   "cell_type": "markdown",
   "id": "912dea71",
   "metadata": {},
   "source": [
    "### 14 DAYS SEQUENCE : Test on one Train-Test split (accuracy : 88.53%)"
   ]
  },
  {
   "cell_type": "code",
   "execution_count": 58,
   "id": "3551fee1",
   "metadata": {},
   "outputs": [],
   "source": [
    "lstm_model_city = LSTM_model(name=\"lstm_model_city\",full_data=df, prev_times=14)"
   ]
  },
  {
   "cell_type": "code",
   "execution_count": 59,
   "id": "b18bb1c7",
   "metadata": {},
   "outputs": [
    {
     "name": "stdout",
     "output_type": "stream",
     "text": [
      "Model: \"sequential_19\"\n",
      "_________________________________________________________________\n",
      " Layer (type)                Output Shape              Param #   \n",
      "=================================================================\n",
      " lstm_19 (LSTM)              (None, 64)                33792     \n",
      "                                                                 \n",
      " dense_19 (Dense)            (None, 1)                 65        \n",
      "                                                                 \n",
      "=================================================================\n",
      "Total params: 33857 (132.25 KB)\n",
      "Trainable params: 33857 (132.25 KB)\n",
      "Non-trainable params: 0 (0.00 Byte)\n",
      "_________________________________________________________________\n",
      "None\n",
      "Epoch 1/6\n",
      "197/201 [============================>.] - ETA: 0s - loss: 0.4401 - accuracy: 0.8204INFO:tensorflow:Assets written to: best_lstm_model_city\\assets\n"
     ]
    },
    {
     "name": "stderr",
     "output_type": "stream",
     "text": [
      "INFO:tensorflow:Assets written to: best_lstm_model_city\\assets\n"
     ]
    },
    {
     "name": "stdout",
     "output_type": "stream",
     "text": [
      "201/201 [==============================] - 12s 38ms/step - loss: 0.4383 - accuracy: 0.8207 - val_loss: 0.3552 - val_accuracy: 0.8479\n",
      "Epoch 2/6\n",
      "199/201 [============================>.] - ETA: 0s - loss: 0.3363 - accuracy: 0.8606INFO:tensorflow:Assets written to: best_lstm_model_city\\assets\n"
     ]
    },
    {
     "name": "stderr",
     "output_type": "stream",
     "text": [
      "INFO:tensorflow:Assets written to: best_lstm_model_city\\assets\n"
     ]
    },
    {
     "name": "stdout",
     "output_type": "stream",
     "text": [
      "201/201 [==============================] - 9s 47ms/step - loss: 0.3378 - accuracy: 0.8601 - val_loss: 0.3091 - val_accuracy: 0.8778\n",
      "Epoch 3/6\n",
      "201/201 [==============================] - 4s 19ms/step - loss: 0.3124 - accuracy: 0.8695 - val_loss: 0.3000 - val_accuracy: 0.8703\n",
      "Epoch 4/6\n",
      "199/201 [============================>.] - ETA: 0s - loss: 0.2936 - accuracy: 0.8763INFO:tensorflow:Assets written to: best_lstm_model_city\\assets\n"
     ]
    },
    {
     "name": "stderr",
     "output_type": "stream",
     "text": [
      "INFO:tensorflow:Assets written to: best_lstm_model_city\\assets\n"
     ]
    },
    {
     "name": "stdout",
     "output_type": "stream",
     "text": [
      "201/201 [==============================] - 7s 37ms/step - loss: 0.2929 - accuracy: 0.8770 - val_loss: 0.3029 - val_accuracy: 0.8853\n",
      "Epoch 5/6\n",
      "201/201 [==============================] - 3s 16ms/step - loss: 0.2788 - accuracy: 0.8819 - val_loss: 0.3088 - val_accuracy: 0.8778\n",
      "Epoch 6/6\n",
      "201/201 [==============================] - 3s 17ms/step - loss: 0.2635 - accuracy: 0.8863 - val_loss: 0.2995 - val_accuracy: 0.8778\n",
      "Accuracy score: 88.53\n"
     ]
    }
   ],
   "source": [
    "lstm_model_city.evaluate(n_splits=1, learning_rate=0.001, epochs=6, batch_size=8, use_model_checkpoint=True)"
   ]
  },
  {
   "cell_type": "code",
   "execution_count": 70,
   "id": "4da80487",
   "metadata": {},
   "outputs": [
    {
     "name": "stdout",
     "output_type": "stream",
     "text": [
      "lstm_model_city accuracy score : 88.53\n"
     ]
    }
   ],
   "source": [
    "print(lstm_model_city.name + f' accuracy score : {100*lstm_model_city.score:.2f}')"
   ]
  },
  {
   "cell_type": "markdown",
   "id": "689a3731",
   "metadata": {},
   "source": [
    "### 14 DAYS SEQUENCE : Cross-Validation (accuracy : 87.61%)"
   ]
  },
  {
   "cell_type": "code",
   "execution_count": 108,
   "id": "d1880419",
   "metadata": {},
   "outputs": [],
   "source": [
    "lstm_model_city_cv = LSTM_model(name=\"lstm_model_city_cv\",full_data=df, prev_times=14)"
   ]
  },
  {
   "cell_type": "code",
   "execution_count": 109,
   "id": "28da0117",
   "metadata": {},
   "outputs": [
    {
     "name": "stdout",
     "output_type": "stream",
     "text": [
      "Model: \"sequential_55\"\n",
      "_________________________________________________________________\n",
      " Layer (type)                Output Shape              Param #   \n",
      "=================================================================\n",
      " lstm_55 (LSTM)              (None, 64)                33792     \n",
      "                                                                 \n",
      " dense_55 (Dense)            (None, 1)                 65        \n",
      "                                                                 \n",
      "=================================================================\n",
      "Total params: 33857 (132.25 KB)\n",
      "Trainable params: 33857 (132.25 KB)\n",
      "Non-trainable params: 0 (0.00 Byte)\n",
      "_________________________________________________________________\n",
      "None\n",
      "Epoch 1/6\n",
      "196/201 [============================>.] - ETA: 0s - loss: 0.4519 - accuracy: 0.8170INFO:tensorflow:Assets written to: best_lstm_model_city_cv\\assets\n"
     ]
    },
    {
     "name": "stderr",
     "output_type": "stream",
     "text": [
      "INFO:tensorflow:Assets written to: best_lstm_model_city_cv\\assets\n"
     ]
    },
    {
     "name": "stdout",
     "output_type": "stream",
     "text": [
      "201/201 [==============================] - 8s 25ms/step - loss: 0.4490 - accuracy: 0.8201 - val_loss: 0.3632 - val_accuracy: 0.8753\n",
      "Epoch 2/6\n",
      "201/201 [==============================] - 2s 10ms/step - loss: 0.3406 - accuracy: 0.8538 - val_loss: 0.2991 - val_accuracy: 0.8728\n",
      "Epoch 3/6\n",
      "196/201 [============================>.] - ETA: 0s - loss: 0.3097 - accuracy: 0.8680INFO:tensorflow:Assets written to: best_lstm_model_city_cv\\assets\n"
     ]
    },
    {
     "name": "stderr",
     "output_type": "stream",
     "text": [
      "INFO:tensorflow:Assets written to: best_lstm_model_city_cv\\assets\n"
     ]
    },
    {
     "name": "stdout",
     "output_type": "stream",
     "text": [
      "201/201 [==============================] - 4s 22ms/step - loss: 0.3094 - accuracy: 0.8682 - val_loss: 0.3060 - val_accuracy: 0.8953\n",
      "Epoch 4/6\n",
      "201/201 [==============================] - 2s 10ms/step - loss: 0.2961 - accuracy: 0.8813 - val_loss: 0.3011 - val_accuracy: 0.8903\n",
      "Epoch 5/6\n",
      "201/201 [==============================] - 2s 10ms/step - loss: 0.2819 - accuracy: 0.8819 - val_loss: 0.3172 - val_accuracy: 0.8678\n",
      "Epoch 6/6\n",
      "201/201 [==============================] - 2s 11ms/step - loss: 0.2661 - accuracy: 0.8869 - val_loss: 0.3158 - val_accuracy: 0.8653\n",
      "Epoch 1/6\n",
      "200/201 [============================>.] - ETA: 0s - loss: 0.4123 - accuracy: 0.8188INFO:tensorflow:Assets written to: best_lstm_model_city_cv\\assets\n"
     ]
    },
    {
     "name": "stderr",
     "output_type": "stream",
     "text": [
      "INFO:tensorflow:Assets written to: best_lstm_model_city_cv\\assets\n"
     ]
    },
    {
     "name": "stdout",
     "output_type": "stream",
     "text": [
      "201/201 [==============================] - 7s 23ms/step - loss: 0.4120 - accuracy: 0.8189 - val_loss: 0.3335 - val_accuracy: 0.8603\n",
      "Epoch 2/6\n",
      "201/201 [==============================] - ETA: 0s - loss: 0.3338 - accuracy: 0.8601INFO:tensorflow:Assets written to: best_lstm_model_city_cv\\assets\n"
     ]
    },
    {
     "name": "stderr",
     "output_type": "stream",
     "text": [
      "INFO:tensorflow:Assets written to: best_lstm_model_city_cv\\assets\n"
     ]
    },
    {
     "name": "stdout",
     "output_type": "stream",
     "text": [
      "201/201 [==============================] - 4s 22ms/step - loss: 0.3338 - accuracy: 0.8601 - val_loss: 0.3240 - val_accuracy: 0.8703\n",
      "Epoch 3/6\n",
      "200/201 [============================>.] - ETA: 0s - loss: 0.3111 - accuracy: 0.8719INFO:tensorflow:Assets written to: best_lstm_model_city_cv\\assets\n"
     ]
    },
    {
     "name": "stderr",
     "output_type": "stream",
     "text": [
      "INFO:tensorflow:Assets written to: best_lstm_model_city_cv\\assets\n"
     ]
    },
    {
     "name": "stdout",
     "output_type": "stream",
     "text": [
      "201/201 [==============================] - 4s 21ms/step - loss: 0.3109 - accuracy: 0.8720 - val_loss: 0.3173 - val_accuracy: 0.8728\n",
      "Epoch 4/6\n",
      "201/201 [==============================] - 2s 11ms/step - loss: 0.2953 - accuracy: 0.8757 - val_loss: 0.3080 - val_accuracy: 0.8728\n",
      "Epoch 5/6\n",
      "200/201 [============================>.] - ETA: 0s - loss: 0.2845 - accuracy: 0.8781INFO:tensorflow:Assets written to: best_lstm_model_city_cv\\assets\n"
     ]
    },
    {
     "name": "stderr",
     "output_type": "stream",
     "text": [
      "INFO:tensorflow:Assets written to: best_lstm_model_city_cv\\assets\n"
     ]
    },
    {
     "name": "stdout",
     "output_type": "stream",
     "text": [
      "201/201 [==============================] - 5s 27ms/step - loss: 0.2843 - accuracy: 0.8782 - val_loss: 0.2935 - val_accuracy: 0.8828\n",
      "Epoch 6/6\n",
      "201/201 [==============================] - 3s 13ms/step - loss: 0.2723 - accuracy: 0.8813 - val_loss: 0.3086 - val_accuracy: 0.8753\n",
      "Epoch 1/6\n",
      "201/201 [==============================] - ETA: 0s - loss: 0.4251 - accuracy: 0.8277INFO:tensorflow:Assets written to: best_lstm_model_city_cv\\assets\n"
     ]
    },
    {
     "name": "stderr",
     "output_type": "stream",
     "text": [
      "INFO:tensorflow:Assets written to: best_lstm_model_city_cv\\assets\n"
     ]
    },
    {
     "name": "stdout",
     "output_type": "stream",
     "text": [
      "201/201 [==============================] - 15s 30ms/step - loss: 0.4251 - accuracy: 0.8277 - val_loss: 0.3846 - val_accuracy: 0.8500\n",
      "Epoch 2/6\n",
      "201/201 [==============================] - 2s 12ms/step - loss: 0.3290 - accuracy: 0.8620 - val_loss: 0.3638 - val_accuracy: 0.8475\n",
      "Epoch 3/6\n",
      "201/201 [==============================] - ETA: 0s - loss: 0.2982 - accuracy: 0.8777INFO:tensorflow:Assets written to: best_lstm_model_city_cv\\assets\n"
     ]
    },
    {
     "name": "stderr",
     "output_type": "stream",
     "text": [
      "INFO:tensorflow:Assets written to: best_lstm_model_city_cv\\assets\n"
     ]
    },
    {
     "name": "stdout",
     "output_type": "stream",
     "text": [
      "201/201 [==============================] - 5s 23ms/step - loss: 0.2982 - accuracy: 0.8777 - val_loss: 0.3619 - val_accuracy: 0.8575\n",
      "Epoch 4/6\n",
      "201/201 [==============================] - 3s 14ms/step - loss: 0.3244 - accuracy: 0.8764 - val_loss: 0.3584 - val_accuracy: 0.8575\n",
      "Epoch 5/6\n",
      "201/201 [==============================] - 2s 10ms/step - loss: 0.2709 - accuracy: 0.8870 - val_loss: 0.3581 - val_accuracy: 0.8475\n",
      "Epoch 6/6\n",
      "201/201 [==============================] - 2s 10ms/step - loss: 0.2580 - accuracy: 0.8908 - val_loss: 0.3744 - val_accuracy: 0.8425\n",
      "Epoch 1/6\n",
      "198/201 [============================>.] - ETA: 0s - loss: 0.4029 - accuracy: 0.8314INFO:tensorflow:Assets written to: best_lstm_model_city_cv\\assets\n"
     ]
    },
    {
     "name": "stderr",
     "output_type": "stream",
     "text": [
      "INFO:tensorflow:Assets written to: best_lstm_model_city_cv\\assets\n"
     ]
    },
    {
     "name": "stdout",
     "output_type": "stream",
     "text": [
      "201/201 [==============================] - 6s 21ms/step - loss: 0.4054 - accuracy: 0.8302 - val_loss: 0.3565 - val_accuracy: 0.8700\n",
      "Epoch 2/6\n",
      "201/201 [==============================] - 2s 10ms/step - loss: 0.3200 - accuracy: 0.8689 - val_loss: 0.3537 - val_accuracy: 0.8625\n",
      "Epoch 3/6\n",
      "201/201 [==============================] - 2s 11ms/step - loss: 0.3011 - accuracy: 0.8770 - val_loss: 0.3436 - val_accuracy: 0.8575\n",
      "Epoch 4/6\n",
      "201/201 [==============================] - 2s 9ms/step - loss: 0.2856 - accuracy: 0.8814 - val_loss: 0.3386 - val_accuracy: 0.8600\n",
      "Epoch 5/6\n",
      "195/201 [============================>.] - ETA: 0s - loss: 0.2741 - accuracy: 0.8923INFO:tensorflow:Assets written to: best_lstm_model_city_cv\\assets\n"
     ]
    },
    {
     "name": "stderr",
     "output_type": "stream",
     "text": [
      "INFO:tensorflow:Assets written to: best_lstm_model_city_cv\\assets\n"
     ]
    },
    {
     "name": "stdout",
     "output_type": "stream",
     "text": [
      "201/201 [==============================] - 4s 20ms/step - loss: 0.2756 - accuracy: 0.8901 - val_loss: 0.3344 - val_accuracy: 0.8725\n",
      "Epoch 6/6\n",
      "201/201 [==============================] - 2s 11ms/step - loss: 0.2563 - accuracy: 0.8933 - val_loss: 0.3325 - val_accuracy: 0.8725\n",
      "Epoch 1/6\n",
      "201/201 [==============================] - ETA: 0s - loss: 0.4226 - accuracy: 0.8127INFO:tensorflow:Assets written to: best_lstm_model_city_cv\\assets\n"
     ]
    },
    {
     "name": "stderr",
     "output_type": "stream",
     "text": [
      "INFO:tensorflow:Assets written to: best_lstm_model_city_cv\\assets\n"
     ]
    },
    {
     "name": "stdout",
     "output_type": "stream",
     "text": [
      "201/201 [==============================] - 7s 24ms/step - loss: 0.4226 - accuracy: 0.8127 - val_loss: 0.3384 - val_accuracy: 0.8500\n",
      "Epoch 2/6\n",
      "199/201 [============================>.] - ETA: 0s - loss: 0.3430 - accuracy: 0.8643INFO:tensorflow:Assets written to: best_lstm_model_city_cv\\assets\n"
     ]
    },
    {
     "name": "stderr",
     "output_type": "stream",
     "text": [
      "INFO:tensorflow:Assets written to: best_lstm_model_city_cv\\assets\n"
     ]
    },
    {
     "name": "stdout",
     "output_type": "stream",
     "text": [
      "201/201 [==============================] - 5s 24ms/step - loss: 0.3438 - accuracy: 0.8639 - val_loss: 0.3220 - val_accuracy: 0.8650\n",
      "Epoch 3/6\n",
      "201/201 [==============================] - 2s 11ms/step - loss: 0.3072 - accuracy: 0.8764 - val_loss: 0.3153 - val_accuracy: 0.8575\n",
      "Epoch 4/6\n",
      "201/201 [==============================] - 2s 11ms/step - loss: 0.2961 - accuracy: 0.8851 - val_loss: 0.2997 - val_accuracy: 0.8650\n",
      "Epoch 5/6\n",
      "199/201 [============================>.] - ETA: 0s - loss: 0.2867 - accuracy: 0.8863INFO:tensorflow:Assets written to: best_lstm_model_city_cv\\assets\n"
     ]
    },
    {
     "name": "stderr",
     "output_type": "stream",
     "text": [
      "INFO:tensorflow:Assets written to: best_lstm_model_city_cv\\assets\n"
     ]
    },
    {
     "name": "stdout",
     "output_type": "stream",
     "text": [
      "201/201 [==============================] - 4s 22ms/step - loss: 0.2862 - accuracy: 0.8864 - val_loss: 0.2940 - val_accuracy: 0.8675\n",
      "Epoch 6/6\n",
      "195/201 [============================>.] - ETA: 0s - loss: 0.2690 - accuracy: 0.8917INFO:tensorflow:Assets written to: best_lstm_model_city_cv\\assets\n"
     ]
    },
    {
     "name": "stderr",
     "output_type": "stream",
     "text": [
      "INFO:tensorflow:Assets written to: best_lstm_model_city_cv\\assets\n"
     ]
    },
    {
     "name": "stdout",
     "output_type": "stream",
     "text": [
      "201/201 [==============================] - 4s 22ms/step - loss: 0.2671 - accuracy: 0.8933 - val_loss: 0.2987 - val_accuracy: 0.8725\n",
      "Accuracy score: 87.61\n"
     ]
    }
   ],
   "source": [
    "lstm_model_city_cv.evaluate(n_splits=5, learning_rate=0.001, epochs=6, batch_size=8, use_model_checkpoint=True)"
   ]
  },
  {
   "cell_type": "code",
   "execution_count": 110,
   "id": "767a498b",
   "metadata": {},
   "outputs": [
    {
     "name": "stdout",
     "output_type": "stream",
     "text": [
      "lstm_model_city_cv accuracy score : 87.61\n"
     ]
    }
   ],
   "source": [
    "print(lstm_model_city_cv.name + f' accuracy score : {100*lstm_model_city_cv.score:.2f}')"
   ]
  },
  {
   "cell_type": "markdown",
   "id": "5a7a47c5",
   "metadata": {},
   "source": [
    "## D. Complete Dataset"
   ]
  },
  {
   "cell_type": "markdown",
   "id": "b08fec9b",
   "metadata": {},
   "source": [
    "### Data Preparation"
   ]
  },
  {
   "cell_type": "markdown",
   "id": "b5ed8fb6",
   "metadata": {},
   "source": [
    "A column is missing in full_data[12], so we add it !"
   ]
  },
  {
   "cell_type": "code",
   "execution_count": 17,
   "id": "df87315c",
   "metadata": {},
   "outputs": [
    {
     "data": {
      "text/plain": [
       "{'WindGustDir_SW'}"
      ]
     },
     "execution_count": 17,
     "metadata": {},
     "output_type": "execute_result"
    }
   ],
   "source": [
    "#Identification de la colonne manquante\n",
    "set(full_data[11].columns) - set(full_data[12].columns)\t"
   ]
  },
  {
   "cell_type": "code",
   "execution_count": 18,
   "id": "910478c6",
   "metadata": {},
   "outputs": [],
   "source": [
    "#Ajout de la colonne manquante au bon emplacement\n",
    "full_data[12].insert(32, 'WindGustDir_SW', 0)"
   ]
  },
  {
   "cell_type": "markdown",
   "id": "794b6001",
   "metadata": {},
   "source": [
    "### 14 DAYS SEQUENCE : Test on one Train-Test split (accuracy : 88.42%)"
   ]
  },
  {
   "cell_type": "code",
   "execution_count": 113,
   "id": "962d46d4",
   "metadata": {},
   "outputs": [],
   "source": [
    "lstm_model = LSTM_model(name=\"lstm_model\",full_data=full_data, prev_times=14)"
   ]
  },
  {
   "cell_type": "code",
   "execution_count": 114,
   "id": "c4a20418",
   "metadata": {},
   "outputs": [
    {
     "name": "stdout",
     "output_type": "stream",
     "text": [
      "Model: \"sequential_60\"\n",
      "_________________________________________________________________\n",
      " Layer (type)                Output Shape              Param #   \n",
      "=================================================================\n",
      " lstm_60 (LSTM)              (None, 64)                33792     \n",
      "                                                                 \n",
      " dense_60 (Dense)            (None, 1)                 65        \n",
      "                                                                 \n",
      "=================================================================\n",
      "Total params: 33857 (132.25 KB)\n",
      "Trainable params: 33857 (132.25 KB)\n",
      "Non-trainable params: 0 (0.00 Byte)\n",
      "_________________________________________________________________\n",
      "None\n",
      "Epoch 1/6\n",
      "4405/4405 [==============================] - ETA: 0s - loss: 0.3073 - accuracy: 0.8737INFO:tensorflow:Assets written to: best_lstm_model\\assets\n"
     ]
    },
    {
     "name": "stderr",
     "output_type": "stream",
     "text": [
      "INFO:tensorflow:Assets written to: best_lstm_model\\assets\n"
     ]
    },
    {
     "name": "stdout",
     "output_type": "stream",
     "text": [
      "4405/4405 [==============================] - 51s 11ms/step - loss: 0.3073 - accuracy: 0.8737 - val_loss: 0.2881 - val_accuracy: 0.8766\n",
      "Epoch 2/6\n",
      "4399/4405 [============================>.] - ETA: 0s - loss: 0.2770 - accuracy: 0.8841INFO:tensorflow:Assets written to: best_lstm_model\\assets\n"
     ]
    },
    {
     "name": "stderr",
     "output_type": "stream",
     "text": [
      "INFO:tensorflow:Assets written to: best_lstm_model\\assets\n"
     ]
    },
    {
     "name": "stdout",
     "output_type": "stream",
     "text": [
      "4405/4405 [==============================] - 41s 9ms/step - loss: 0.2769 - accuracy: 0.8841 - val_loss: 0.2818 - val_accuracy: 0.8798\n",
      "Epoch 3/6\n",
      "4400/4405 [============================>.] - ETA: 0s - loss: 0.2630 - accuracy: 0.8888INFO:tensorflow:Assets written to: best_lstm_model\\assets\n"
     ]
    },
    {
     "name": "stderr",
     "output_type": "stream",
     "text": [
      "INFO:tensorflow:Assets written to: best_lstm_model\\assets\n"
     ]
    },
    {
     "name": "stdout",
     "output_type": "stream",
     "text": [
      "4405/4405 [==============================] - 41s 9ms/step - loss: 0.2630 - accuracy: 0.8887 - val_loss: 0.2740 - val_accuracy: 0.8815\n",
      "Epoch 4/6\n",
      "4405/4405 [==============================] - 44s 10ms/step - loss: 0.2473 - accuracy: 0.8951 - val_loss: 0.2791 - val_accuracy: 0.8788\n",
      "Epoch 5/6\n",
      "4404/4405 [============================>.] - ETA: 0s - loss: 0.2335 - accuracy: 0.9008INFO:tensorflow:Assets written to: best_lstm_model\\assets\n"
     ]
    },
    {
     "name": "stderr",
     "output_type": "stream",
     "text": [
      "INFO:tensorflow:Assets written to: best_lstm_model\\assets\n"
     ]
    },
    {
     "name": "stdout",
     "output_type": "stream",
     "text": [
      "4405/4405 [==============================] - 45s 10ms/step - loss: 0.2335 - accuracy: 0.9008 - val_loss: 0.2786 - val_accuracy: 0.8842\n",
      "Epoch 6/6\n",
      "4405/4405 [==============================] - 42s 10ms/step - loss: 0.2166 - accuracy: 0.9099 - val_loss: 0.3030 - val_accuracy: 0.8784\n",
      "Accuracy score: 88.42\n"
     ]
    }
   ],
   "source": [
    "lstm_model.evaluate(n_splits=1, learning_rate=0.001, epochs=6, batch_size=8, use_model_checkpoint=True)"
   ]
  },
  {
   "cell_type": "code",
   "execution_count": 115,
   "id": "97561a06",
   "metadata": {},
   "outputs": [
    {
     "name": "stdout",
     "output_type": "stream",
     "text": [
      "lstm_model accuracy score : 88.42\n"
     ]
    }
   ],
   "source": [
    "print(lstm_model.name + f' accuracy score : {100*lstm_model.score:.2f}')"
   ]
  },
  {
   "cell_type": "markdown",
   "id": "e7957631",
   "metadata": {},
   "source": [
    "### 14 DAYS SEQUENCE : Cross-Validation (accuracy : 88.72%)"
   ]
  },
  {
   "cell_type": "code",
   "execution_count": 30,
   "id": "a508f977",
   "metadata": {},
   "outputs": [],
   "source": [
    "lstm_model_cv = LSTM_model(name=\"lstm_model_cv\",full_data=full_data, prev_times=14)"
   ]
  },
  {
   "cell_type": "code",
   "execution_count": 31,
   "id": "be74801e",
   "metadata": {},
   "outputs": [
    {
     "name": "stdout",
     "output_type": "stream",
     "text": [
      "Model: \"sequential_6\"\n",
      "_________________________________________________________________\n",
      " Layer (type)                Output Shape              Param #   \n",
      "=================================================================\n",
      " lstm_6 (LSTM)               (None, 64)                33792     \n",
      "                                                                 \n",
      " dense_6 (Dense)             (None, 1)                 65        \n",
      "                                                                 \n",
      "=================================================================\n",
      "Total params: 33857 (132.25 KB)\n",
      "Trainable params: 33857 (132.25 KB)\n",
      "Non-trainable params: 0 (0.00 Byte)\n",
      "_________________________________________________________________\n",
      "None\n",
      "Epoch 1/6\n",
      "4402/4405 [============================>.] - ETA: 0s - loss: 0.3076 - accuracy: 0.8719INFO:tensorflow:Assets written to: best_lstm_model_cv/assets\n"
     ]
    },
    {
     "name": "stderr",
     "output_type": "stream",
     "text": [
      "INFO:tensorflow:Assets written to: best_lstm_model_cv/assets\n"
     ]
    },
    {
     "name": "stdout",
     "output_type": "stream",
     "text": [
      "4405/4405 [==============================] - 12s 3ms/step - loss: 0.3077 - accuracy: 0.8718 - val_loss: 0.2823 - val_accuracy: 0.8843\n",
      "Epoch 2/6\n",
      "4402/4405 [============================>.] - ETA: 0s - loss: 0.2802 - accuracy: 0.8828INFO:tensorflow:Assets written to: best_lstm_model_cv/assets\n"
     ]
    },
    {
     "name": "stderr",
     "output_type": "stream",
     "text": [
      "INFO:tensorflow:Assets written to: best_lstm_model_cv/assets\n"
     ]
    },
    {
     "name": "stdout",
     "output_type": "stream",
     "text": [
      "4405/4405 [==============================] - 11s 3ms/step - loss: 0.2802 - accuracy: 0.8828 - val_loss: 0.2715 - val_accuracy: 0.8861\n",
      "Epoch 3/6\n",
      "4389/4405 [============================>.] - ETA: 0s - loss: 0.2656 - accuracy: 0.8891INFO:tensorflow:Assets written to: best_lstm_model_cv/assets\n"
     ]
    },
    {
     "name": "stderr",
     "output_type": "stream",
     "text": [
      "INFO:tensorflow:Assets written to: best_lstm_model_cv/assets\n"
     ]
    },
    {
     "name": "stdout",
     "output_type": "stream",
     "text": [
      "4405/4405 [==============================] - 12s 3ms/step - loss: 0.2659 - accuracy: 0.8890 - val_loss: 0.2679 - val_accuracy: 0.8899\n",
      "Epoch 4/6\n",
      "4389/4405 [============================>.] - ETA: 0s - loss: 0.2508 - accuracy: 0.8936INFO:tensorflow:Assets written to: best_lstm_model_cv/assets\n"
     ]
    },
    {
     "name": "stderr",
     "output_type": "stream",
     "text": [
      "INFO:tensorflow:Assets written to: best_lstm_model_cv/assets\n"
     ]
    },
    {
     "name": "stdout",
     "output_type": "stream",
     "text": [
      "4405/4405 [==============================] - 12s 3ms/step - loss: 0.2509 - accuracy: 0.8936 - val_loss: 0.2607 - val_accuracy: 0.8910\n",
      "Epoch 5/6\n",
      "4405/4405 [==============================] - 11s 3ms/step - loss: 0.2344 - accuracy: 0.9006 - val_loss: 0.2628 - val_accuracy: 0.8908\n",
      "Epoch 6/6\n",
      "4387/4405 [============================>.] - ETA: 0s - loss: 0.2175 - accuracy: 0.9077INFO:tensorflow:Assets written to: best_lstm_model_cv/assets\n"
     ]
    },
    {
     "name": "stderr",
     "output_type": "stream",
     "text": [
      "INFO:tensorflow:Assets written to: best_lstm_model_cv/assets\n"
     ]
    },
    {
     "name": "stdout",
     "output_type": "stream",
     "text": [
      "4405/4405 [==============================] - 12s 3ms/step - loss: 0.2175 - accuracy: 0.9076 - val_loss: 0.2697 - val_accuracy: 0.8918\n",
      "Epoch 1/6\n",
      "4398/4405 [============================>.] - ETA: 0s - loss: 0.3055 - accuracy: 0.8719INFO:tensorflow:Assets written to: best_lstm_model_cv/assets\n"
     ]
    },
    {
     "name": "stderr",
     "output_type": "stream",
     "text": [
      "INFO:tensorflow:Assets written to: best_lstm_model_cv/assets\n"
     ]
    },
    {
     "name": "stdout",
     "output_type": "stream",
     "text": [
      "4405/4405 [==============================] - 12s 3ms/step - loss: 0.3055 - accuracy: 0.8719 - val_loss: 0.3180 - val_accuracy: 0.8800\n",
      "Epoch 2/6\n",
      "4386/4405 [============================>.] - ETA: 0s - loss: 0.2784 - accuracy: 0.8838INFO:tensorflow:Assets written to: best_lstm_model_cv/assets\n"
     ]
    },
    {
     "name": "stderr",
     "output_type": "stream",
     "text": [
      "INFO:tensorflow:Assets written to: best_lstm_model_cv/assets\n"
     ]
    },
    {
     "name": "stdout",
     "output_type": "stream",
     "text": [
      "4405/4405 [==============================] - 12s 3ms/step - loss: 0.2783 - accuracy: 0.8839 - val_loss: 0.2845 - val_accuracy: 0.8809\n",
      "Epoch 3/6\n",
      "4400/4405 [============================>.] - ETA: 0s - loss: 0.2675 - accuracy: 0.8873INFO:tensorflow:Assets written to: best_lstm_model_cv/assets\n"
     ]
    },
    {
     "name": "stderr",
     "output_type": "stream",
     "text": [
      "INFO:tensorflow:Assets written to: best_lstm_model_cv/assets\n"
     ]
    },
    {
     "name": "stdout",
     "output_type": "stream",
     "text": [
      "4405/4405 [==============================] - 11s 3ms/step - loss: 0.2675 - accuracy: 0.8873 - val_loss: 0.2790 - val_accuracy: 0.8847\n",
      "Epoch 4/6\n",
      "4405/4405 [==============================] - 11s 3ms/step - loss: 0.2516 - accuracy: 0.8930 - val_loss: 0.2805 - val_accuracy: 0.8825\n",
      "Epoch 5/6\n",
      "4405/4405 [==============================] - 11s 3ms/step - loss: 0.2367 - accuracy: 0.8997 - val_loss: 0.2805 - val_accuracy: 0.8845\n",
      "Epoch 6/6\n",
      "4395/4405 [============================>.] - ETA: 0s - loss: 0.2211 - accuracy: 0.9075INFO:tensorflow:Assets written to: best_lstm_model_cv/assets\n"
     ]
    },
    {
     "name": "stderr",
     "output_type": "stream",
     "text": [
      "INFO:tensorflow:Assets written to: best_lstm_model_cv/assets\n"
     ]
    },
    {
     "name": "stdout",
     "output_type": "stream",
     "text": [
      "4405/4405 [==============================] - 12s 3ms/step - loss: 0.2213 - accuracy: 0.9073 - val_loss: 0.2861 - val_accuracy: 0.8866\n",
      "Epoch 1/6\n",
      "4386/4405 [============================>.] - ETA: 0s - loss: 0.3102 - accuracy: 0.8732INFO:tensorflow:Assets written to: best_lstm_model_cv/assets\n"
     ]
    },
    {
     "name": "stderr",
     "output_type": "stream",
     "text": [
      "INFO:tensorflow:Assets written to: best_lstm_model_cv/assets\n"
     ]
    },
    {
     "name": "stdout",
     "output_type": "stream",
     "text": [
      "4405/4405 [==============================] - 12s 3ms/step - loss: 0.3099 - accuracy: 0.8733 - val_loss: 0.2769 - val_accuracy: 0.8824\n",
      "Epoch 2/6\n",
      "4389/4405 [============================>.] - ETA: 0s - loss: 0.2814 - accuracy: 0.8837INFO:tensorflow:Assets written to: best_lstm_model_cv/assets\n"
     ]
    },
    {
     "name": "stderr",
     "output_type": "stream",
     "text": [
      "INFO:tensorflow:Assets written to: best_lstm_model_cv/assets\n"
     ]
    },
    {
     "name": "stdout",
     "output_type": "stream",
     "text": [
      "4405/4405 [==============================] - 11s 3ms/step - loss: 0.2815 - accuracy: 0.8836 - val_loss: 0.2682 - val_accuracy: 0.8877\n",
      "Epoch 3/6\n",
      "4387/4405 [============================>.] - ETA: 0s - loss: 0.2645 - accuracy: 0.8892INFO:tensorflow:Assets written to: best_lstm_model_cv/assets\n"
     ]
    },
    {
     "name": "stderr",
     "output_type": "stream",
     "text": [
      "INFO:tensorflow:Assets written to: best_lstm_model_cv/assets\n"
     ]
    },
    {
     "name": "stdout",
     "output_type": "stream",
     "text": [
      "4405/4405 [==============================] - 11s 3ms/step - loss: 0.2646 - accuracy: 0.8891 - val_loss: 0.2652 - val_accuracy: 0.8886\n",
      "Epoch 4/6\n",
      "4405/4405 [==============================] - 11s 2ms/step - loss: 0.2492 - accuracy: 0.8944 - val_loss: 0.2672 - val_accuracy: 0.8865\n",
      "Epoch 5/6\n",
      "4397/4405 [============================>.] - ETA: 0s - loss: 0.2354 - accuracy: 0.9010INFO:tensorflow:Assets written to: best_lstm_model_cv/assets\n"
     ]
    },
    {
     "name": "stderr",
     "output_type": "stream",
     "text": [
      "INFO:tensorflow:Assets written to: best_lstm_model_cv/assets\n"
     ]
    },
    {
     "name": "stdout",
     "output_type": "stream",
     "text": [
      "4405/4405 [==============================] - 11s 3ms/step - loss: 0.2354 - accuracy: 0.9011 - val_loss: 0.2624 - val_accuracy: 0.8889\n",
      "Epoch 6/6\n",
      "4405/4405 [==============================] - 11s 2ms/step - loss: 0.2189 - accuracy: 0.9075 - val_loss: 0.2756 - val_accuracy: 0.8834\n",
      "Epoch 1/6\n",
      "4402/4405 [============================>.] - ETA: 0s - loss: 0.3052 - accuracy: 0.8751INFO:tensorflow:Assets written to: best_lstm_model_cv/assets\n"
     ]
    },
    {
     "name": "stderr",
     "output_type": "stream",
     "text": [
      "INFO:tensorflow:Assets written to: best_lstm_model_cv/assets\n"
     ]
    },
    {
     "name": "stdout",
     "output_type": "stream",
     "text": [
      "4405/4405 [==============================] - 12s 3ms/step - loss: 0.3052 - accuracy: 0.8750 - val_loss: 0.2913 - val_accuracy: 0.8759\n",
      "Epoch 2/6\n",
      "4400/4405 [============================>.] - ETA: 0s - loss: 0.2747 - accuracy: 0.8848INFO:tensorflow:Assets written to: best_lstm_model_cv/assets\n"
     ]
    },
    {
     "name": "stderr",
     "output_type": "stream",
     "text": [
      "INFO:tensorflow:Assets written to: best_lstm_model_cv/assets\n"
     ]
    },
    {
     "name": "stdout",
     "output_type": "stream",
     "text": [
      "4405/4405 [==============================] - 12s 3ms/step - loss: 0.2746 - accuracy: 0.8848 - val_loss: 0.2883 - val_accuracy: 0.8788\n",
      "Epoch 3/6\n",
      "4390/4405 [============================>.] - ETA: 0s - loss: 0.2611 - accuracy: 0.8909INFO:tensorflow:Assets written to: best_lstm_model_cv/assets\n"
     ]
    },
    {
     "name": "stderr",
     "output_type": "stream",
     "text": [
      "INFO:tensorflow:Assets written to: best_lstm_model_cv/assets\n"
     ]
    },
    {
     "name": "stdout",
     "output_type": "stream",
     "text": [
      "4405/4405 [==============================] - 12s 3ms/step - loss: 0.2614 - accuracy: 0.8908 - val_loss: 0.2772 - val_accuracy: 0.8839\n",
      "Epoch 4/6\n",
      "4405/4405 [==============================] - 11s 3ms/step - loss: 0.2450 - accuracy: 0.8969 - val_loss: 0.2820 - val_accuracy: 0.8813\n",
      "Epoch 5/6\n",
      "4390/4405 [============================>.] - ETA: 0s - loss: 0.2297 - accuracy: 0.9026INFO:tensorflow:Assets written to: best_lstm_model_cv/assets\n"
     ]
    },
    {
     "name": "stderr",
     "output_type": "stream",
     "text": [
      "INFO:tensorflow:Assets written to: best_lstm_model_cv/assets\n"
     ]
    },
    {
     "name": "stdout",
     "output_type": "stream",
     "text": [
      "4405/4405 [==============================] - 11s 3ms/step - loss: 0.2296 - accuracy: 0.9026 - val_loss: 0.2803 - val_accuracy: 0.8841\n",
      "Epoch 6/6\n",
      "4405/4405 [==============================] - 11s 2ms/step - loss: 0.2150 - accuracy: 0.9088 - val_loss: 0.2899 - val_accuracy: 0.8826\n",
      "Epoch 1/6\n",
      "4405/4405 [==============================] - ETA: 0s - loss: 0.3065 - accuracy: 0.8718INFO:tensorflow:Assets written to: best_lstm_model_cv/assets\n"
     ]
    },
    {
     "name": "stderr",
     "output_type": "stream",
     "text": [
      "INFO:tensorflow:Assets written to: best_lstm_model_cv/assets\n"
     ]
    },
    {
     "name": "stdout",
     "output_type": "stream",
     "text": [
      "4405/4405 [==============================] - 12s 3ms/step - loss: 0.3065 - accuracy: 0.8718 - val_loss: 0.3045 - val_accuracy: 0.8723\n",
      "Epoch 2/6\n",
      "4405/4405 [==============================] - ETA: 0s - loss: 0.2776 - accuracy: 0.8841INFO:tensorflow:Assets written to: best_lstm_model_cv/assets\n"
     ]
    },
    {
     "name": "stderr",
     "output_type": "stream",
     "text": [
      "INFO:tensorflow:Assets written to: best_lstm_model_cv/assets\n"
     ]
    },
    {
     "name": "stdout",
     "output_type": "stream",
     "text": [
      "4405/4405 [==============================] - 12s 3ms/step - loss: 0.2776 - accuracy: 0.8841 - val_loss: 0.2857 - val_accuracy: 0.8791\n",
      "Epoch 3/6\n",
      "4394/4405 [============================>.] - ETA: 0s - loss: 0.2623 - accuracy: 0.8898INFO:tensorflow:Assets written to: best_lstm_model_cv/assets\n"
     ]
    },
    {
     "name": "stderr",
     "output_type": "stream",
     "text": [
      "INFO:tensorflow:Assets written to: best_lstm_model_cv/assets\n"
     ]
    },
    {
     "name": "stdout",
     "output_type": "stream",
     "text": [
      "4405/4405 [==============================] - 12s 3ms/step - loss: 0.2623 - accuracy: 0.8898 - val_loss: 0.2817 - val_accuracy: 0.8836\n",
      "Epoch 4/6\n",
      "4405/4405 [==============================] - 11s 3ms/step - loss: 0.2494 - accuracy: 0.8951 - val_loss: 0.2856 - val_accuracy: 0.8832\n",
      "Epoch 5/6\n",
      "4398/4405 [============================>.] - ETA: 0s - loss: 0.2346 - accuracy: 0.9007INFO:tensorflow:Assets written to: best_lstm_model_cv/assets\n"
     ]
    },
    {
     "name": "stderr",
     "output_type": "stream",
     "text": [
      "INFO:tensorflow:Assets written to: best_lstm_model_cv/assets\n"
     ]
    },
    {
     "name": "stdout",
     "output_type": "stream",
     "text": [
      "4405/4405 [==============================] - 12s 3ms/step - loss: 0.2347 - accuracy: 0.9007 - val_loss: 0.2769 - val_accuracy: 0.8845\n",
      "Epoch 6/6\n",
      "4405/4405 [==============================] - 11s 3ms/step - loss: 0.2202 - accuracy: 0.9071 - val_loss: 0.2781 - val_accuracy: 0.8812\n",
      "Accuracy score: 88.72\n"
     ]
    }
   ],
   "source": [
    "lstm_model_cv.evaluate(n_splits=5, learning_rate=0.001, epochs=6, batch_size=8, use_model_checkpoint=True)"
   ]
  },
  {
   "cell_type": "code",
   "execution_count": 32,
   "id": "0b3568f4",
   "metadata": {},
   "outputs": [
    {
     "name": "stdout",
     "output_type": "stream",
     "text": [
      "lstm_model_cv accuracy score : 88.72\n"
     ]
    }
   ],
   "source": [
    "print(lstm_model_cv.name + f' accuracy score : {100*lstm_model_cv.score:.2f}')"
   ]
  },
  {
   "cell_type": "markdown",
   "id": "391e6aec",
   "metadata": {},
   "source": [
    "### 14 DAYS SEQUENCE AND 2 LSTM LAYERS : Cross-Validation (88.61%)"
   ]
  },
  {
   "cell_type": "code",
   "execution_count": 43,
   "id": "26148a2c",
   "metadata": {},
   "outputs": [],
   "source": [
    "lstm_model_cv = LSTM_model(name=\"lstm_model_cv\",full_data=full_data, prev_times=14)"
   ]
  },
  {
   "cell_type": "code",
   "execution_count": 44,
   "id": "9d6aee98",
   "metadata": {},
   "outputs": [
    {
     "name": "stdout",
     "output_type": "stream",
     "text": [
      "Model: \"sequential_18\"\n",
      "_________________________________________________________________\n",
      " Layer (type)                Output Shape              Param #   \n",
      "=================================================================\n",
      " lstm_25 (LSTM)              (None, 15, 64)            33792     \n",
      "                                                                 \n",
      " lstm_26 (LSTM)              (None, 32)                12416     \n",
      "                                                                 \n",
      " dense_16 (Dense)            (None, 1)                 33        \n",
      "                                                                 \n",
      "=================================================================\n",
      "Total params: 46241 (180.63 KB)\n",
      "Trainable params: 46241 (180.63 KB)\n",
      "Non-trainable params: 0 (0.00 Byte)\n",
      "_________________________________________________________________\n",
      "None\n",
      "Epoch 1/6\n",
      "4401/4405 [============================>.] - ETA: 0s - loss: 0.3096 - accuracy: 0.8705INFO:tensorflow:Assets written to: best_lstm_model_cv/assets\n"
     ]
    },
    {
     "name": "stderr",
     "output_type": "stream",
     "text": [
      "INFO:tensorflow:Assets written to: best_lstm_model_cv/assets\n"
     ]
    },
    {
     "name": "stdout",
     "output_type": "stream",
     "text": [
      "4405/4405 [==============================] - 23s 5ms/step - loss: 0.3096 - accuracy: 0.8705 - val_loss: 0.2826 - val_accuracy: 0.8832\n",
      "Epoch 2/6\n",
      "4401/4405 [============================>.] - ETA: 0s - loss: 0.2751 - accuracy: 0.8843INFO:tensorflow:Assets written to: best_lstm_model_cv/assets\n"
     ]
    },
    {
     "name": "stderr",
     "output_type": "stream",
     "text": [
      "INFO:tensorflow:Assets written to: best_lstm_model_cv/assets\n"
     ]
    },
    {
     "name": "stdout",
     "output_type": "stream",
     "text": [
      "4405/4405 [==============================] - 21s 5ms/step - loss: 0.2750 - accuracy: 0.8844 - val_loss: 0.2756 - val_accuracy: 0.8834\n",
      "Epoch 3/6\n",
      "4399/4405 [============================>.] - ETA: 0s - loss: 0.2563 - accuracy: 0.8932INFO:tensorflow:Assets written to: best_lstm_model_cv/assets\n"
     ]
    },
    {
     "name": "stderr",
     "output_type": "stream",
     "text": [
      "INFO:tensorflow:Assets written to: best_lstm_model_cv/assets\n"
     ]
    },
    {
     "name": "stdout",
     "output_type": "stream",
     "text": [
      "4405/4405 [==============================] - 22s 5ms/step - loss: 0.2565 - accuracy: 0.8931 - val_loss: 0.2672 - val_accuracy: 0.8877\n",
      "Epoch 4/6\n",
      "4402/4405 [============================>.] - ETA: 0s - loss: 0.2337 - accuracy: 0.9017INFO:tensorflow:Assets written to: best_lstm_model_cv/assets\n"
     ]
    },
    {
     "name": "stderr",
     "output_type": "stream",
     "text": [
      "INFO:tensorflow:Assets written to: best_lstm_model_cv/assets\n"
     ]
    },
    {
     "name": "stdout",
     "output_type": "stream",
     "text": [
      "4405/4405 [==============================] - 21s 5ms/step - loss: 0.2337 - accuracy: 0.9016 - val_loss: 0.2630 - val_accuracy: 0.8909\n",
      "Epoch 5/6\n",
      "4405/4405 [==============================] - 19s 4ms/step - loss: 0.2113 - accuracy: 0.9117 - val_loss: 0.2770 - val_accuracy: 0.8853\n",
      "Epoch 6/6\n",
      "4405/4405 [==============================] - 19s 4ms/step - loss: 0.1874 - accuracy: 0.9220 - val_loss: 0.2838 - val_accuracy: 0.8863\n",
      "Epoch 1/6\n",
      "4394/4405 [============================>.] - ETA: 0s - loss: 0.3113 - accuracy: 0.8709INFO:tensorflow:Assets written to: best_lstm_model_cv/assets\n"
     ]
    },
    {
     "name": "stderr",
     "output_type": "stream",
     "text": [
      "INFO:tensorflow:Assets written to: best_lstm_model_cv/assets\n"
     ]
    },
    {
     "name": "stdout",
     "output_type": "stream",
     "text": [
      "4405/4405 [==============================] - 24s 5ms/step - loss: 0.3112 - accuracy: 0.8710 - val_loss: 0.2833 - val_accuracy: 0.8814\n",
      "Epoch 2/6\n",
      "4395/4405 [============================>.] - ETA: 0s - loss: 0.2735 - accuracy: 0.8855INFO:tensorflow:Assets written to: best_lstm_model_cv/assets\n"
     ]
    },
    {
     "name": "stderr",
     "output_type": "stream",
     "text": [
      "INFO:tensorflow:Assets written to: best_lstm_model_cv/assets\n"
     ]
    },
    {
     "name": "stdout",
     "output_type": "stream",
     "text": [
      "4405/4405 [==============================] - 22s 5ms/step - loss: 0.2736 - accuracy: 0.8855 - val_loss: 0.2761 - val_accuracy: 0.8834\n",
      "Epoch 3/6\n",
      "4397/4405 [============================>.] - ETA: 0s - loss: 0.2558 - accuracy: 0.8927INFO:tensorflow:Assets written to: best_lstm_model_cv/assets\n"
     ]
    },
    {
     "name": "stderr",
     "output_type": "stream",
     "text": [
      "INFO:tensorflow:Assets written to: best_lstm_model_cv/assets\n"
     ]
    },
    {
     "name": "stdout",
     "output_type": "stream",
     "text": [
      "4405/4405 [==============================] - 23s 5ms/step - loss: 0.2559 - accuracy: 0.8927 - val_loss: 0.2749 - val_accuracy: 0.8843\n",
      "Epoch 4/6\n",
      "4405/4405 [==============================] - 20s 5ms/step - loss: 0.2365 - accuracy: 0.8990 - val_loss: 0.2784 - val_accuracy: 0.8832\n",
      "Epoch 5/6\n",
      "4405/4405 [==============================] - 20s 5ms/step - loss: 0.2134 - accuracy: 0.9096 - val_loss: 0.2846 - val_accuracy: 0.8794\n",
      "Epoch 6/6\n",
      "4402/4405 [============================>.] - ETA: 0s - loss: 0.1895 - accuracy: 0.9231INFO:tensorflow:Assets written to: best_lstm_model_cv/assets\n"
     ]
    },
    {
     "name": "stderr",
     "output_type": "stream",
     "text": [
      "INFO:tensorflow:Assets written to: best_lstm_model_cv/assets\n"
     ]
    },
    {
     "name": "stdout",
     "output_type": "stream",
     "text": [
      "4405/4405 [==============================] - 23s 5ms/step - loss: 0.1894 - accuracy: 0.9232 - val_loss: 0.2910 - val_accuracy: 0.8849\n",
      "Epoch 1/6\n",
      "4398/4405 [============================>.] - ETA: 0s - loss: 0.3131 - accuracy: 0.8701INFO:tensorflow:Assets written to: best_lstm_model_cv/assets\n"
     ]
    },
    {
     "name": "stderr",
     "output_type": "stream",
     "text": [
      "INFO:tensorflow:Assets written to: best_lstm_model_cv/assets\n"
     ]
    },
    {
     "name": "stdout",
     "output_type": "stream",
     "text": [
      "4405/4405 [==============================] - 24s 5ms/step - loss: 0.3131 - accuracy: 0.8701 - val_loss: 0.2797 - val_accuracy: 0.8828\n",
      "Epoch 2/6\n",
      "4405/4405 [==============================] - 20s 4ms/step - loss: 0.2739 - accuracy: 0.8852 - val_loss: 0.2733 - val_accuracy: 0.8828\n",
      "Epoch 3/6\n",
      "4396/4405 [============================>.] - ETA: 0s - loss: 0.2539 - accuracy: 0.8929INFO:tensorflow:Assets written to: best_lstm_model_cv/assets\n"
     ]
    },
    {
     "name": "stderr",
     "output_type": "stream",
     "text": [
      "INFO:tensorflow:Assets written to: best_lstm_model_cv/assets\n"
     ]
    },
    {
     "name": "stdout",
     "output_type": "stream",
     "text": [
      "4405/4405 [==============================] - 21s 5ms/step - loss: 0.2537 - accuracy: 0.8929 - val_loss: 0.2657 - val_accuracy: 0.8866\n",
      "Epoch 4/6\n",
      "4405/4405 [==============================] - 19s 4ms/step - loss: 0.2335 - accuracy: 0.9023 - val_loss: 0.2724 - val_accuracy: 0.8818\n",
      "Epoch 5/6\n",
      "4394/4405 [============================>.] - ETA: 0s - loss: 0.2101 - accuracy: 0.9114INFO:tensorflow:Assets written to: best_lstm_model_cv/assets\n"
     ]
    },
    {
     "name": "stderr",
     "output_type": "stream",
     "text": [
      "INFO:tensorflow:Assets written to: best_lstm_model_cv/assets\n"
     ]
    },
    {
     "name": "stdout",
     "output_type": "stream",
     "text": [
      "4405/4405 [==============================] - 21s 5ms/step - loss: 0.2102 - accuracy: 0.9114 - val_loss: 0.2819 - val_accuracy: 0.8868\n",
      "Epoch 6/6\n",
      "4405/4405 [==============================] - 20s 4ms/step - loss: 0.1853 - accuracy: 0.9247 - val_loss: 0.2915 - val_accuracy: 0.8798\n",
      "Epoch 1/6\n",
      "4399/4405 [============================>.] - ETA: 0s - loss: 0.3074 - accuracy: 0.8711INFO:tensorflow:Assets written to: best_lstm_model_cv/assets\n"
     ]
    },
    {
     "name": "stderr",
     "output_type": "stream",
     "text": [
      "INFO:tensorflow:Assets written to: best_lstm_model_cv/assets\n"
     ]
    },
    {
     "name": "stdout",
     "output_type": "stream",
     "text": [
      "4405/4405 [==============================] - 23s 5ms/step - loss: 0.3073 - accuracy: 0.8712 - val_loss: 0.2929 - val_accuracy: 0.8782\n",
      "Epoch 2/6\n",
      "4398/4405 [============================>.] - ETA: 0s - loss: 0.2705 - accuracy: 0.8863INFO:tensorflow:Assets written to: best_lstm_model_cv/assets\n"
     ]
    },
    {
     "name": "stderr",
     "output_type": "stream",
     "text": [
      "INFO:tensorflow:Assets written to: best_lstm_model_cv/assets\n"
     ]
    },
    {
     "name": "stdout",
     "output_type": "stream",
     "text": [
      "4405/4405 [==============================] - 22s 5ms/step - loss: 0.2705 - accuracy: 0.8862 - val_loss: 0.2821 - val_accuracy: 0.8819\n",
      "Epoch 3/6\n",
      "4396/4405 [============================>.] - ETA: 0s - loss: 0.2502 - accuracy: 0.8949INFO:tensorflow:Assets written to: best_lstm_model_cv/assets\n"
     ]
    },
    {
     "name": "stderr",
     "output_type": "stream",
     "text": [
      "INFO:tensorflow:Assets written to: best_lstm_model_cv/assets\n"
     ]
    },
    {
     "name": "stdout",
     "output_type": "stream",
     "text": [
      "4405/4405 [==============================] - 22s 5ms/step - loss: 0.2502 - accuracy: 0.8948 - val_loss: 0.2764 - val_accuracy: 0.8866\n",
      "Epoch 4/6\n",
      "4405/4405 [==============================] - 20s 4ms/step - loss: 0.2305 - accuracy: 0.9024 - val_loss: 0.2878 - val_accuracy: 0.8833\n",
      "Epoch 5/6\n",
      "4405/4405 [==============================] - 20s 4ms/step - loss: 0.2062 - accuracy: 0.9158 - val_loss: 0.2993 - val_accuracy: 0.8782\n",
      "Epoch 6/6\n",
      "4405/4405 [==============================] - 20s 4ms/step - loss: 0.1818 - accuracy: 0.9258 - val_loss: 0.3109 - val_accuracy: 0.8785\n",
      "Epoch 1/6\n",
      "4404/4405 [============================>.] - ETA: 0s - loss: 0.3068 - accuracy: 0.8725INFO:tensorflow:Assets written to: best_lstm_model_cv/assets\n"
     ]
    },
    {
     "name": "stderr",
     "output_type": "stream",
     "text": [
      "INFO:tensorflow:Assets written to: best_lstm_model_cv/assets\n"
     ]
    },
    {
     "name": "stdout",
     "output_type": "stream",
     "text": [
      "4405/4405 [==============================] - 23s 5ms/step - loss: 0.3068 - accuracy: 0.8725 - val_loss: 0.2944 - val_accuracy: 0.8767\n",
      "Epoch 2/6\n",
      "4397/4405 [============================>.] - ETA: 0s - loss: 0.2714 - accuracy: 0.8862INFO:tensorflow:Assets written to: best_lstm_model_cv/assets\n"
     ]
    },
    {
     "name": "stderr",
     "output_type": "stream",
     "text": [
      "INFO:tensorflow:Assets written to: best_lstm_model_cv/assets\n"
     ]
    },
    {
     "name": "stdout",
     "output_type": "stream",
     "text": [
      "4405/4405 [==============================] - 21s 5ms/step - loss: 0.2715 - accuracy: 0.8862 - val_loss: 0.2811 - val_accuracy: 0.8790\n",
      "Epoch 3/6\n",
      "4398/4405 [============================>.] - ETA: 0s - loss: 0.2522 - accuracy: 0.8933INFO:tensorflow:Assets written to: best_lstm_model_cv/assets\n"
     ]
    },
    {
     "name": "stderr",
     "output_type": "stream",
     "text": [
      "INFO:tensorflow:Assets written to: best_lstm_model_cv/assets\n"
     ]
    },
    {
     "name": "stdout",
     "output_type": "stream",
     "text": [
      "4405/4405 [==============================] - 22s 5ms/step - loss: 0.2522 - accuracy: 0.8933 - val_loss: 0.2756 - val_accuracy: 0.8810\n",
      "Epoch 4/6\n",
      "4401/4405 [============================>.] - ETA: 0s - loss: 0.2301 - accuracy: 0.9036INFO:tensorflow:Assets written to: best_lstm_model_cv/assets\n"
     ]
    },
    {
     "name": "stderr",
     "output_type": "stream",
     "text": [
      "INFO:tensorflow:Assets written to: best_lstm_model_cv/assets\n"
     ]
    },
    {
     "name": "stdout",
     "output_type": "stream",
     "text": [
      "4405/4405 [==============================] - 21s 5ms/step - loss: 0.2303 - accuracy: 0.9035 - val_loss: 0.2822 - val_accuracy: 0.8811\n",
      "Epoch 5/6\n",
      "4405/4405 [==============================] - 19s 4ms/step - loss: 0.2084 - accuracy: 0.9134 - val_loss: 0.2883 - val_accuracy: 0.8780\n",
      "Epoch 6/6\n",
      "4399/4405 [============================>.] - ETA: 0s - loss: 0.1826 - accuracy: 0.9255INFO:tensorflow:Assets written to: best_lstm_model_cv/assets\n"
     ]
    },
    {
     "name": "stderr",
     "output_type": "stream",
     "text": [
      "INFO:tensorflow:Assets written to: best_lstm_model_cv/assets\n"
     ]
    },
    {
     "name": "stdout",
     "output_type": "stream",
     "text": [
      "4405/4405 [==============================] - 21s 5ms/step - loss: 0.1826 - accuracy: 0.9255 - val_loss: 0.2978 - val_accuracy: 0.8815\n",
      "Accuracy score: 88.61\n"
     ]
    }
   ],
   "source": [
    "lstm_model_cv.evaluate(n_splits=5, learning_rate=0.001, nb_layers=2, nb_neurons=[64,32], epochs=6, batch_size=8, use_model_checkpoint=True)"
   ]
  },
  {
   "cell_type": "code",
   "execution_count": 45,
   "id": "ad4e096f",
   "metadata": {},
   "outputs": [
    {
     "name": "stdout",
     "output_type": "stream",
     "text": [
      "lstm_model_cv accuracy score : 88.61\n"
     ]
    }
   ],
   "source": [
    "\n",
    "print(lstm_model_cv.name + f' accuracy score : {100*lstm_model_cv.score:.2f}')"
   ]
  },
  {
   "cell_type": "markdown",
   "id": "d0e55477",
   "metadata": {},
   "source": [
    "### 30 DAYS SEQUENCE AND 3 LSTM LAYERS : Test on one Train-Test split (accuracy : 88.99%)"
   ]
  },
  {
   "cell_type": "code",
   "execution_count": 56,
   "id": "72fc7b78",
   "metadata": {},
   "outputs": [],
   "source": [
    "lstm_model_30 = LSTM_model(name=\"lstm_model_30\",full_data=full_data, prev_times=30)"
   ]
  },
  {
   "cell_type": "code",
   "execution_count": 57,
   "id": "03da10f4",
   "metadata": {},
   "outputs": [
    {
     "name": "stdout",
     "output_type": "stream",
     "text": [
      "Model: \"sequential_27\"\n",
      "_________________________________________________________________\n",
      " Layer (type)                Output Shape              Param #   \n",
      "=================================================================\n",
      " lstm_44 (LSTM)              (None, 31, 64)            33792     \n",
      "                                                                 \n",
      " lstm_45 (LSTM)              (None, 31, 64)            33024     \n",
      "                                                                 \n",
      " lstm_46 (LSTM)              (None, 32)                12416     \n",
      "                                                                 \n",
      " dense_25 (Dense)            (None, 1)                 33        \n",
      "                                                                 \n",
      "=================================================================\n",
      "Total params: 79265 (309.63 KB)\n",
      "Trainable params: 79265 (309.63 KB)\n",
      "Non-trainable params: 0 (0.00 Byte)\n",
      "_________________________________________________________________\n",
      "None\n",
      "Epoch 1/10\n",
      "4368/4370 [============================>.] - ETA: 0s - loss: 0.3148 - accuracy: 0.8699INFO:tensorflow:Assets written to: best_lstm_model_30/assets\n"
     ]
    },
    {
     "name": "stderr",
     "output_type": "stream",
     "text": [
      "INFO:tensorflow:Assets written to: best_lstm_model_30/assets\n"
     ]
    },
    {
     "name": "stdout",
     "output_type": "stream",
     "text": [
      "4370/4370 [==============================] - 59s 13ms/step - loss: 0.3148 - accuracy: 0.8699 - val_loss: 0.2794 - val_accuracy: 0.8833\n",
      "Epoch 2/10\n",
      "4367/4370 [============================>.] - ETA: 0s - loss: 0.2714 - accuracy: 0.8865INFO:tensorflow:Assets written to: best_lstm_model_30/assets\n"
     ]
    },
    {
     "name": "stderr",
     "output_type": "stream",
     "text": [
      "INFO:tensorflow:Assets written to: best_lstm_model_30/assets\n"
     ]
    },
    {
     "name": "stdout",
     "output_type": "stream",
     "text": [
      "4370/4370 [==============================] - 59s 14ms/step - loss: 0.2715 - accuracy: 0.8864 - val_loss: 0.2799 - val_accuracy: 0.8859\n",
      "Epoch 3/10\n",
      "4370/4370 [==============================] - ETA: 0s - loss: 0.2496 - accuracy: 0.8943INFO:tensorflow:Assets written to: best_lstm_model_30/assets\n"
     ]
    },
    {
     "name": "stderr",
     "output_type": "stream",
     "text": [
      "INFO:tensorflow:Assets written to: best_lstm_model_30/assets\n"
     ]
    },
    {
     "name": "stdout",
     "output_type": "stream",
     "text": [
      "4370/4370 [==============================] - 60s 14ms/step - loss: 0.2496 - accuracy: 0.8943 - val_loss: 0.2651 - val_accuracy: 0.8899\n",
      "Epoch 4/10\n",
      "4370/4370 [==============================] - 56s 13ms/step - loss: 0.2287 - accuracy: 0.9047 - val_loss: 0.2696 - val_accuracy: 0.8850\n",
      "Epoch 5/10\n",
      "4370/4370 [==============================] - 56s 13ms/step - loss: 0.2059 - accuracy: 0.9150 - val_loss: 0.2775 - val_accuracy: 0.8874\n",
      "Epoch 6/10\n",
      "4370/4370 [==============================] - 55s 13ms/step - loss: 0.1774 - accuracy: 0.9273 - val_loss: 0.2900 - val_accuracy: 0.8829\n",
      "Epoch 7/10\n",
      "4370/4370 [==============================] - 55s 12ms/step - loss: 0.1527 - accuracy: 0.9395 - val_loss: 0.3293 - val_accuracy: 0.8871\n",
      "Epoch 8/10\n",
      "4370/4370 [==============================] - 55s 12ms/step - loss: 0.1273 - accuracy: 0.9515 - val_loss: 0.3588 - val_accuracy: 0.8730\n",
      "Epoch 9/10\n",
      "4370/4370 [==============================] - 56s 13ms/step - loss: 0.1054 - accuracy: 0.9605 - val_loss: 0.3711 - val_accuracy: 0.8706\n",
      "Epoch 10/10\n",
      "4370/4370 [==============================] - 55s 13ms/step - loss: 0.0851 - accuracy: 0.9686 - val_loss: 0.4091 - val_accuracy: 0.8769\n",
      "Accuracy score: 88.99\n"
     ]
    }
   ],
   "source": [
    "lstm_model_30.evaluate(n_splits=1, learning_rate=0.001, nb_layers=3, nb_neurons=[64,64,32], epochs=10, batch_size=8, use_model_checkpoint=True)"
   ]
  },
  {
   "cell_type": "code",
   "execution_count": 58,
   "id": "44352e80",
   "metadata": {},
   "outputs": [
    {
     "name": "stdout",
     "output_type": "stream",
     "text": [
      "lstm_model_30 accuracy score : 88.99\n"
     ]
    }
   ],
   "source": [
    "print(lstm_model_30.name + f' accuracy score : {100*lstm_model_30.score:.2f}')"
   ]
  },
  {
   "cell_type": "markdown",
   "id": "159c11ce",
   "metadata": {},
   "source": [
    "## Own exploration"
   ]
  },
  {
   "cell_type": "code",
   "execution_count": null,
   "id": "0b541a5e",
   "metadata": {},
   "outputs": [],
   "source": [
    "def test_my_lstm_model(my_prev_times, my_nb_layers, my_nb_neurons, my_epochs, my_batch_size, my_learning_rate, my_n_splits):\n",
    "    my_lstm_model = LSTM_model(name=\"my_lstm_model\",full_data=full_data, prev_times=my_prev_times)\n",
    "    my_lstm_model.evaluate(n_splits=my_n_splits, learning_rate=my_learning_rate, nb_layers=my_nb_layers, nb_neurons=my_nb_neurons, epochs=my_epochs, batch_size=my_batch_size, use_model_checkpoint=True)\n",
    "    print(my_lstm_model.name + f' accuracy score : {100*my_lstm_model.score:.2f}')"
   ]
  },
  {
   "cell_type": "markdown",
   "id": "2930ee42",
   "metadata": {},
   "source": [
    "Use the below commented code to try your own LSTM model"
   ]
  },
  {
   "cell_type": "markdown",
   "id": "7d463803",
   "metadata": {},
   "source": [
    "First, define your parameters :"
   ]
  },
  {
   "cell_type": "code",
   "execution_count": null,
   "id": "4c4dc4c3",
   "metadata": {},
   "outputs": [],
   "source": [
    "my_prev_times = ...     #To complete with the sequence length you want to use\n",
    "\n",
    "'''Network parameters'''\n",
    "\n",
    "my_nb_layers = ...      #To complete with the number of LSTM layers you want to use\n",
    "my_nb_neurons = ...     #To complete with the number of neurons you want to use, it is a list of length my_nb_layers\n",
    "\n",
    "'''Training parameters'''\n",
    "\n",
    "my_epochs = ...         #To complete with the number of epochs you want to use\n",
    "my_batch_size = ...     #To complete with the batch size you want to use\n",
    "my_learning_rate = ...  #To complete with the learning rate you want to use\n",
    "\n",
    "'''Validation parameters'''\n",
    "\n",
    "my_n_splits = ...       #To complete with the number of folds you want to use"
   ]
  },
  {
   "cell_type": "markdown",
   "id": "2c29bfad",
   "metadata": {},
   "source": [
    "Then, run the below cell to train your model and have your accuracy score."
   ]
  },
  {
   "cell_type": "code",
   "execution_count": null,
   "id": "0a7a1a61",
   "metadata": {},
   "outputs": [],
   "source": [
    "test_my_lstm_model(my_prev_times, my_nb_layers, my_nb_neurons, my_epochs, my_batch_size, my_learning_rate, my_n_splits)"
   ]
  }
 ],
 "metadata": {
  "kernelspec": {
   "display_name": "Python 3 (ipykernel)",
   "language": "python",
   "name": "python3"
  },
  "language_info": {
   "codemirror_mode": {
    "name": "ipython",
    "version": 3
   },
   "file_extension": ".py",
   "mimetype": "text/x-python",
   "name": "python",
   "nbconvert_exporter": "python",
   "pygments_lexer": "ipython3",
   "version": "3.11.4"
  }
 },
 "nbformat": 4,
 "nbformat_minor": 5
}
